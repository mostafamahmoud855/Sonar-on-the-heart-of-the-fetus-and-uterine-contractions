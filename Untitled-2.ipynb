{
 "cells": [
  {
   "cell_type": "code",
   "execution_count": 1996,
   "metadata": {},
   "outputs": [],
   "source": [
    "# Library\n",
    "import pandas as pd \n",
    "import matplotlib.pyplot as plt \n",
    "from sklearn.metrics import accuracy_score , classification_report , roc_curve , roc_auc_score , confusion_matrix\n",
    "from sklearn.model_selection import train_test_split , cross_validate\n",
    "from sklearn.feature_selection import mutual_info_classif \n",
    "from sklearn.tree import DecisionTreeClassifier \n",
    "from sklearn.svm import SVC\n",
    "from sklearn.neighbors import KNeighborsClassifier \n",
    "from sklearn.ensemble import RandomForestClassifier\n",
    "from sklearn.ensemble import AdaBoostClassifier , BaggingClassifier , GradientBoostingClassifier , VotingClassifier\n",
    "from imblearn.over_sampling import RandomOverSampler\n",
    "from mlxtend.plotting import plot_confusion_matrix\n",
    "from sklearn.tree import plot_tree\n",
    "import seaborn as sns"
   ]
  },
  {
   "cell_type": "code",
   "execution_count": 1997,
   "metadata": {},
   "outputs": [
    {
     "data": {
      "text/html": [
       "<div>\n",
       "<style scoped>\n",
       "    .dataframe tbody tr th:only-of-type {\n",
       "        vertical-align: middle;\n",
       "    }\n",
       "\n",
       "    .dataframe tbody tr th {\n",
       "        vertical-align: top;\n",
       "    }\n",
       "\n",
       "    .dataframe thead th {\n",
       "        text-align: right;\n",
       "    }\n",
       "</style>\n",
       "<table border=\"1\" class=\"dataframe\">\n",
       "  <thead>\n",
       "    <tr style=\"text-align: right;\">\n",
       "      <th></th>\n",
       "      <th>FileName</th>\n",
       "      <th>Date</th>\n",
       "      <th>SegFile</th>\n",
       "      <th>b</th>\n",
       "      <th>e</th>\n",
       "      <th>LBE</th>\n",
       "      <th>LB</th>\n",
       "      <th>AC</th>\n",
       "      <th>FM</th>\n",
       "      <th>UC</th>\n",
       "      <th>...</th>\n",
       "      <th>C</th>\n",
       "      <th>D</th>\n",
       "      <th>E</th>\n",
       "      <th>AD</th>\n",
       "      <th>DE</th>\n",
       "      <th>LD</th>\n",
       "      <th>FS</th>\n",
       "      <th>SUSP</th>\n",
       "      <th>CLASS</th>\n",
       "      <th>NSP</th>\n",
       "    </tr>\n",
       "  </thead>\n",
       "  <tbody>\n",
       "    <tr>\n",
       "      <th>0</th>\n",
       "      <td>Variab10.txt</td>\n",
       "      <td>12/1/1996</td>\n",
       "      <td>CTG0001.txt</td>\n",
       "      <td>240.0</td>\n",
       "      <td>357.0</td>\n",
       "      <td>120.0</td>\n",
       "      <td>120.0</td>\n",
       "      <td>0.0</td>\n",
       "      <td>0.0</td>\n",
       "      <td>0.0</td>\n",
       "      <td>...</td>\n",
       "      <td>0.0</td>\n",
       "      <td>0.0</td>\n",
       "      <td>0.0</td>\n",
       "      <td>0.0</td>\n",
       "      <td>0.0</td>\n",
       "      <td>0.0</td>\n",
       "      <td>1.0</td>\n",
       "      <td>0.0</td>\n",
       "      <td>9.0</td>\n",
       "      <td>2.0</td>\n",
       "    </tr>\n",
       "    <tr>\n",
       "      <th>1</th>\n",
       "      <td>Fmcs_1.txt</td>\n",
       "      <td>5/3/1996</td>\n",
       "      <td>CTG0002.txt</td>\n",
       "      <td>5.0</td>\n",
       "      <td>632.0</td>\n",
       "      <td>132.0</td>\n",
       "      <td>132.0</td>\n",
       "      <td>4.0</td>\n",
       "      <td>0.0</td>\n",
       "      <td>4.0</td>\n",
       "      <td>...</td>\n",
       "      <td>0.0</td>\n",
       "      <td>0.0</td>\n",
       "      <td>0.0</td>\n",
       "      <td>1.0</td>\n",
       "      <td>0.0</td>\n",
       "      <td>0.0</td>\n",
       "      <td>0.0</td>\n",
       "      <td>0.0</td>\n",
       "      <td>6.0</td>\n",
       "      <td>1.0</td>\n",
       "    </tr>\n",
       "    <tr>\n",
       "      <th>2</th>\n",
       "      <td>Fmcs_1.txt</td>\n",
       "      <td>5/3/1996</td>\n",
       "      <td>CTG0003.txt</td>\n",
       "      <td>177.0</td>\n",
       "      <td>779.0</td>\n",
       "      <td>133.0</td>\n",
       "      <td>133.0</td>\n",
       "      <td>2.0</td>\n",
       "      <td>0.0</td>\n",
       "      <td>5.0</td>\n",
       "      <td>...</td>\n",
       "      <td>0.0</td>\n",
       "      <td>0.0</td>\n",
       "      <td>0.0</td>\n",
       "      <td>1.0</td>\n",
       "      <td>0.0</td>\n",
       "      <td>0.0</td>\n",
       "      <td>0.0</td>\n",
       "      <td>0.0</td>\n",
       "      <td>6.0</td>\n",
       "      <td>1.0</td>\n",
       "    </tr>\n",
       "    <tr>\n",
       "      <th>3</th>\n",
       "      <td>Fmcs_1.txt</td>\n",
       "      <td>5/3/1996</td>\n",
       "      <td>CTG0004.txt</td>\n",
       "      <td>411.0</td>\n",
       "      <td>1192.0</td>\n",
       "      <td>134.0</td>\n",
       "      <td>134.0</td>\n",
       "      <td>2.0</td>\n",
       "      <td>0.0</td>\n",
       "      <td>6.0</td>\n",
       "      <td>...</td>\n",
       "      <td>0.0</td>\n",
       "      <td>0.0</td>\n",
       "      <td>0.0</td>\n",
       "      <td>1.0</td>\n",
       "      <td>0.0</td>\n",
       "      <td>0.0</td>\n",
       "      <td>0.0</td>\n",
       "      <td>0.0</td>\n",
       "      <td>6.0</td>\n",
       "      <td>1.0</td>\n",
       "    </tr>\n",
       "    <tr>\n",
       "      <th>4</th>\n",
       "      <td>Fmcs_1.txt</td>\n",
       "      <td>5/3/1996</td>\n",
       "      <td>CTG0005.txt</td>\n",
       "      <td>533.0</td>\n",
       "      <td>1147.0</td>\n",
       "      <td>132.0</td>\n",
       "      <td>132.0</td>\n",
       "      <td>4.0</td>\n",
       "      <td>0.0</td>\n",
       "      <td>5.0</td>\n",
       "      <td>...</td>\n",
       "      <td>0.0</td>\n",
       "      <td>0.0</td>\n",
       "      <td>0.0</td>\n",
       "      <td>0.0</td>\n",
       "      <td>0.0</td>\n",
       "      <td>0.0</td>\n",
       "      <td>0.0</td>\n",
       "      <td>0.0</td>\n",
       "      <td>2.0</td>\n",
       "      <td>1.0</td>\n",
       "    </tr>\n",
       "  </tbody>\n",
       "</table>\n",
       "<p>5 rows × 40 columns</p>\n",
       "</div>"
      ],
      "text/plain": [
       "       FileName       Date      SegFile      b       e    LBE     LB   AC  \\\n",
       "0  Variab10.txt  12/1/1996  CTG0001.txt  240.0   357.0  120.0  120.0  0.0   \n",
       "1    Fmcs_1.txt   5/3/1996  CTG0002.txt    5.0   632.0  132.0  132.0  4.0   \n",
       "2    Fmcs_1.txt   5/3/1996  CTG0003.txt  177.0   779.0  133.0  133.0  2.0   \n",
       "3    Fmcs_1.txt   5/3/1996  CTG0004.txt  411.0  1192.0  134.0  134.0  2.0   \n",
       "4    Fmcs_1.txt   5/3/1996  CTG0005.txt  533.0  1147.0  132.0  132.0  4.0   \n",
       "\n",
       "    FM   UC  ...    C    D    E   AD   DE   LD   FS  SUSP  CLASS  NSP  \n",
       "0  0.0  0.0  ...  0.0  0.0  0.0  0.0  0.0  0.0  1.0   0.0    9.0  2.0  \n",
       "1  0.0  4.0  ...  0.0  0.0  0.0  1.0  0.0  0.0  0.0   0.0    6.0  1.0  \n",
       "2  0.0  5.0  ...  0.0  0.0  0.0  1.0  0.0  0.0  0.0   0.0    6.0  1.0  \n",
       "3  0.0  6.0  ...  0.0  0.0  0.0  1.0  0.0  0.0  0.0   0.0    6.0  1.0  \n",
       "4  0.0  5.0  ...  0.0  0.0  0.0  0.0  0.0  0.0  0.0   0.0    2.0  1.0  \n",
       "\n",
       "[5 rows x 40 columns]"
      ]
     },
     "execution_count": 1997,
     "metadata": {},
     "output_type": "execute_result"
    }
   ],
   "source": [
    "df = pd.read_csv('CTG.csv')\n",
    "df.head()"
   ]
  },
  {
   "cell_type": "code",
   "execution_count": 1998,
   "metadata": {},
   "outputs": [
    {
     "data": {
      "text/plain": [
       "(2129, 40)"
      ]
     },
     "execution_count": 1998,
     "metadata": {},
     "output_type": "execute_result"
    }
   ],
   "source": [
    "df.shape"
   ]
  },
  {
   "cell_type": "code",
   "execution_count": 1999,
   "metadata": {},
   "outputs": [],
   "source": [
    "df = df.rename(columns={'b': 'start instant','e':'end instant','A':'calm sleep','B':'REM sleep','C': 'calm vigilance','D': 'active vigilance' , 'E' : 'SH'})"
   ]
  },
  {
   "cell_type": "code",
   "execution_count": 2000,
   "metadata": {},
   "outputs": [
    {
     "data": {
      "text/plain": [
       "FileName            3\n",
       "Date                3\n",
       "SegFile             3\n",
       "start instant       3\n",
       "end instant         3\n",
       "LBE                 3\n",
       "LB                  3\n",
       "AC                  3\n",
       "FM                  2\n",
       "UC                  2\n",
       "ASTV                2\n",
       "MSTV                2\n",
       "ALTV                2\n",
       "MLTV                2\n",
       "DL                  1\n",
       "DS                  1\n",
       "DP                  1\n",
       "DR                  1\n",
       "Width               3\n",
       "Min                 3\n",
       "Max                 3\n",
       "Nmax                3\n",
       "Nzeros              3\n",
       "Mode                3\n",
       "Mean                3\n",
       "Median              3\n",
       "Variance            3\n",
       "Tendency            3\n",
       "calm sleep          3\n",
       "REM sleep           3\n",
       "calm vigilance      3\n",
       "active vigilance    3\n",
       "SH                  3\n",
       "AD                  3\n",
       "DE                  3\n",
       "LD                  3\n",
       "FS                  3\n",
       "SUSP                3\n",
       "CLASS               3\n",
       "NSP                 3\n",
       "dtype: int64"
      ]
     },
     "execution_count": 2000,
     "metadata": {},
     "output_type": "execute_result"
    }
   ],
   "source": [
    "df.isna().sum()"
   ]
  },
  {
   "cell_type": "code",
   "execution_count": 2001,
   "metadata": {},
   "outputs": [
    {
     "data": {
      "text/plain": [
       "0"
      ]
     },
     "execution_count": 2001,
     "metadata": {},
     "output_type": "execute_result"
    }
   ],
   "source": [
    "df.duplicated().sum()"
   ]
  },
  {
   "cell_type": "code",
   "execution_count": 2002,
   "metadata": {},
   "outputs": [],
   "source": [
    "df = df.dropna()"
   ]
  },
  {
   "cell_type": "code",
   "execution_count": 2003,
   "metadata": {},
   "outputs": [
    {
     "data": {
      "text/plain": [
       "Index(['FileName', 'Date', 'SegFile', 'start instant', 'end instant', 'LBE',\n",
       "       'LB', 'AC', 'FM', 'UC', 'ASTV', 'MSTV', 'ALTV', 'MLTV', 'DL', 'DS',\n",
       "       'DP', 'DR', 'Width', 'Min', 'Max', 'Nmax', 'Nzeros', 'Mode', 'Mean',\n",
       "       'Median', 'Variance', 'Tendency', 'calm sleep', 'REM sleep',\n",
       "       'calm vigilance', 'active vigilance', 'SH', 'AD', 'DE', 'LD', 'FS',\n",
       "       'SUSP', 'CLASS', 'NSP'],\n",
       "      dtype='object')"
      ]
     },
     "execution_count": 2003,
     "metadata": {},
     "output_type": "execute_result"
    }
   ],
   "source": [
    "df.columns"
   ]
  },
  {
   "cell_type": "code",
   "execution_count": 2004,
   "metadata": {},
   "outputs": [
    {
     "name": "stdout",
     "output_type": "stream",
     "text": [
      "<class 'pandas.core.frame.DataFrame'>\n",
      "Int64Index: 2126 entries, 0 to 2125\n",
      "Data columns (total 40 columns):\n",
      " #   Column            Non-Null Count  Dtype  \n",
      "---  ------            --------------  -----  \n",
      " 0   FileName          2126 non-null   object \n",
      " 1   Date              2126 non-null   object \n",
      " 2   SegFile           2126 non-null   object \n",
      " 3   start instant     2126 non-null   float64\n",
      " 4   end instant       2126 non-null   float64\n",
      " 5   LBE               2126 non-null   float64\n",
      " 6   LB                2126 non-null   float64\n",
      " 7   AC                2126 non-null   float64\n",
      " 8   FM                2126 non-null   float64\n",
      " 9   UC                2126 non-null   float64\n",
      " 10  ASTV              2126 non-null   float64\n",
      " 11  MSTV              2126 non-null   float64\n",
      " 12  ALTV              2126 non-null   float64\n",
      " 13  MLTV              2126 non-null   float64\n",
      " 14  DL                2126 non-null   float64\n",
      " 15  DS                2126 non-null   float64\n",
      " 16  DP                2126 non-null   float64\n",
      " 17  DR                2126 non-null   float64\n",
      " 18  Width             2126 non-null   float64\n",
      " 19  Min               2126 non-null   float64\n",
      " 20  Max               2126 non-null   float64\n",
      " 21  Nmax              2126 non-null   float64\n",
      " 22  Nzeros            2126 non-null   float64\n",
      " 23  Mode              2126 non-null   float64\n",
      " 24  Mean              2126 non-null   float64\n",
      " 25  Median            2126 non-null   float64\n",
      " 26  Variance          2126 non-null   float64\n",
      " 27  Tendency          2126 non-null   float64\n",
      " 28  calm sleep        2126 non-null   float64\n",
      " 29  REM sleep         2126 non-null   float64\n",
      " 30  calm vigilance    2126 non-null   float64\n",
      " 31  active vigilance  2126 non-null   float64\n",
      " 32  SH                2126 non-null   float64\n",
      " 33  AD                2126 non-null   float64\n",
      " 34  DE                2126 non-null   float64\n",
      " 35  LD                2126 non-null   float64\n",
      " 36  FS                2126 non-null   float64\n",
      " 37  SUSP              2126 non-null   float64\n",
      " 38  CLASS             2126 non-null   float64\n",
      " 39  NSP               2126 non-null   float64\n",
      "dtypes: float64(37), object(3)\n",
      "memory usage: 681.0+ KB\n"
     ]
    }
   ],
   "source": [
    "df.info()"
   ]
  },
  {
   "cell_type": "code",
   "execution_count": 2005,
   "metadata": {},
   "outputs": [
    {
     "data": {
      "text/plain": [
       "Index(['FileName', 'Date', 'SegFile', 'start instant', 'end instant', 'LBE',\n",
       "       'LB', 'AC', 'FM', 'UC', 'ASTV', 'MSTV', 'ALTV', 'MLTV', 'DL', 'DS',\n",
       "       'DP', 'DR', 'Width', 'Min', 'Max', 'Nmax', 'Nzeros', 'Mode', 'Mean',\n",
       "       'Median', 'Variance', 'Tendency', 'calm sleep', 'REM sleep',\n",
       "       'calm vigilance', 'active vigilance', 'SH', 'AD', 'DE', 'LD', 'FS',\n",
       "       'SUSP', 'CLASS', 'NSP'],\n",
       "      dtype='object')"
      ]
     },
     "execution_count": 2005,
     "metadata": {},
     "output_type": "execute_result"
    }
   ],
   "source": [
    "df.columns"
   ]
  },
  {
   "cell_type": "code",
   "execution_count": 2006,
   "metadata": {},
   "outputs": [],
   "source": [
    "df =df.drop(columns=['FileName','Date','SegFile','DR','FM','Max','Nmax','Tendency','DE','start instant','end instant','Nzeros','active vigilance' ,'DS', 'calm vigilance' ,'MLTV' ,'AD'])"
   ]
  },
  {
   "cell_type": "code",
   "execution_count": 2007,
   "metadata": {},
   "outputs": [
    {
     "data": {
      "text/plain": [
       "Index(['LBE', 'LB', 'AC', 'UC', 'ASTV', 'MSTV', 'ALTV', 'DL', 'DP', 'Width',\n",
       "       'Min', 'Mode', 'Mean', 'Median', 'Variance', 'calm sleep', 'REM sleep',\n",
       "       'SH', 'LD', 'FS', 'SUSP', 'CLASS', 'NSP'],\n",
       "      dtype='object')"
      ]
     },
     "execution_count": 2007,
     "metadata": {},
     "output_type": "execute_result"
    }
   ],
   "source": [
    "# coloumn after drop \n",
    "df.columns"
   ]
  },
  {
   "cell_type": "code",
   "execution_count": 2008,
   "metadata": {},
   "outputs": [],
   "source": [
    "df =df.astype(int)"
   ]
  },
  {
   "cell_type": "code",
   "execution_count": 2009,
   "metadata": {},
   "outputs": [
    {
     "data": {
      "text/html": [
       "<div>\n",
       "<style scoped>\n",
       "    .dataframe tbody tr th:only-of-type {\n",
       "        vertical-align: middle;\n",
       "    }\n",
       "\n",
       "    .dataframe tbody tr th {\n",
       "        vertical-align: top;\n",
       "    }\n",
       "\n",
       "    .dataframe thead th {\n",
       "        text-align: right;\n",
       "    }\n",
       "</style>\n",
       "<table border=\"1\" class=\"dataframe\">\n",
       "  <thead>\n",
       "    <tr style=\"text-align: right;\">\n",
       "      <th></th>\n",
       "      <th>LBE</th>\n",
       "      <th>LB</th>\n",
       "      <th>AC</th>\n",
       "      <th>UC</th>\n",
       "      <th>ASTV</th>\n",
       "      <th>MSTV</th>\n",
       "      <th>ALTV</th>\n",
       "      <th>DL</th>\n",
       "      <th>DP</th>\n",
       "      <th>Width</th>\n",
       "      <th>...</th>\n",
       "      <th>Median</th>\n",
       "      <th>Variance</th>\n",
       "      <th>calm sleep</th>\n",
       "      <th>REM sleep</th>\n",
       "      <th>SH</th>\n",
       "      <th>LD</th>\n",
       "      <th>FS</th>\n",
       "      <th>SUSP</th>\n",
       "      <th>CLASS</th>\n",
       "      <th>NSP</th>\n",
       "    </tr>\n",
       "  </thead>\n",
       "  <tbody>\n",
       "    <tr>\n",
       "      <th>LBE</th>\n",
       "      <td>1.000000</td>\n",
       "      <td>1.000000</td>\n",
       "      <td>-0.077967</td>\n",
       "      <td>-0.127722</td>\n",
       "      <td>0.305570</td>\n",
       "      <td>-0.276422</td>\n",
       "      <td>0.285630</td>\n",
       "      <td>-0.155908</td>\n",
       "      <td>-0.117133</td>\n",
       "      <td>-0.147679</td>\n",
       "      <td>...</td>\n",
       "      <td>0.789246</td>\n",
       "      <td>-0.133938</td>\n",
       "      <td>-0.023075</td>\n",
       "      <td>-0.048750</td>\n",
       "      <td>0.158350</td>\n",
       "      <td>-0.122136</td>\n",
       "      <td>0.069885</td>\n",
       "      <td>0.283783</td>\n",
       "      <td>0.143001</td>\n",
       "      <td>0.148151</td>\n",
       "    </tr>\n",
       "    <tr>\n",
       "      <th>LB</th>\n",
       "      <td>1.000000</td>\n",
       "      <td>1.000000</td>\n",
       "      <td>-0.077967</td>\n",
       "      <td>-0.127722</td>\n",
       "      <td>0.305570</td>\n",
       "      <td>-0.276422</td>\n",
       "      <td>0.285630</td>\n",
       "      <td>-0.155908</td>\n",
       "      <td>-0.117133</td>\n",
       "      <td>-0.147679</td>\n",
       "      <td>...</td>\n",
       "      <td>0.789246</td>\n",
       "      <td>-0.133938</td>\n",
       "      <td>-0.023075</td>\n",
       "      <td>-0.048750</td>\n",
       "      <td>0.158350</td>\n",
       "      <td>-0.122136</td>\n",
       "      <td>0.069885</td>\n",
       "      <td>0.283783</td>\n",
       "      <td>0.143001</td>\n",
       "      <td>0.148151</td>\n",
       "    </tr>\n",
       "    <tr>\n",
       "      <th>AC</th>\n",
       "      <td>-0.077967</td>\n",
       "      <td>-0.077967</td>\n",
       "      <td>1.000000</td>\n",
       "      <td>0.212100</td>\n",
       "      <td>-0.197985</td>\n",
       "      <td>0.181558</td>\n",
       "      <td>-0.345162</td>\n",
       "      <td>-0.011350</td>\n",
       "      <td>-0.110317</td>\n",
       "      <td>0.291516</td>\n",
       "      <td>...</td>\n",
       "      <td>0.250729</td>\n",
       "      <td>0.111981</td>\n",
       "      <td>-0.315433</td>\n",
       "      <td>0.467663</td>\n",
       "      <td>-0.116153</td>\n",
       "      <td>-0.140998</td>\n",
       "      <td>-0.140062</td>\n",
       "      <td>-0.238009</td>\n",
       "      <td>-0.255205</td>\n",
       "      <td>-0.340394</td>\n",
       "    </tr>\n",
       "    <tr>\n",
       "      <th>UC</th>\n",
       "      <td>-0.127722</td>\n",
       "      <td>-0.127722</td>\n",
       "      <td>0.212100</td>\n",
       "      <td>1.000000</td>\n",
       "      <td>-0.079651</td>\n",
       "      <td>0.215609</td>\n",
       "      <td>-0.247513</td>\n",
       "      <td>0.339484</td>\n",
       "      <td>0.152395</td>\n",
       "      <td>0.152990</td>\n",
       "      <td>...</td>\n",
       "      <td>-0.111041</td>\n",
       "      <td>0.184188</td>\n",
       "      <td>-0.042272</td>\n",
       "      <td>0.023350</td>\n",
       "      <td>-0.026050</td>\n",
       "      <td>0.113672</td>\n",
       "      <td>-0.205653</td>\n",
       "      <td>-0.251330</td>\n",
       "      <td>-0.073465</td>\n",
       "      <td>-0.163295</td>\n",
       "    </tr>\n",
       "    <tr>\n",
       "      <th>ASTV</th>\n",
       "      <td>0.305570</td>\n",
       "      <td>0.305570</td>\n",
       "      <td>-0.197985</td>\n",
       "      <td>-0.079651</td>\n",
       "      <td>1.000000</td>\n",
       "      <td>-0.404212</td>\n",
       "      <td>0.459413</td>\n",
       "      <td>-0.037040</td>\n",
       "      <td>0.053677</td>\n",
       "      <td>-0.260463</td>\n",
       "      <td>...</td>\n",
       "      <td>0.119960</td>\n",
       "      <td>-0.146434</td>\n",
       "      <td>0.046221</td>\n",
       "      <td>-0.139987</td>\n",
       "      <td>0.072269</td>\n",
       "      <td>0.137192</td>\n",
       "      <td>0.308643</td>\n",
       "      <td>0.364282</td>\n",
       "      <td>0.284580</td>\n",
       "      <td>0.471191</td>\n",
       "    </tr>\n",
       "    <tr>\n",
       "      <th>MSTV</th>\n",
       "      <td>-0.276422</td>\n",
       "      <td>-0.276422</td>\n",
       "      <td>0.181558</td>\n",
       "      <td>0.215609</td>\n",
       "      <td>-0.404212</td>\n",
       "      <td>1.000000</td>\n",
       "      <td>-0.430573</td>\n",
       "      <td>0.504650</td>\n",
       "      <td>0.282386</td>\n",
       "      <td>0.634593</td>\n",
       "      <td>...</td>\n",
       "      <td>-0.336042</td>\n",
       "      <td>0.541739</td>\n",
       "      <td>-0.265670</td>\n",
       "      <td>-0.059565</td>\n",
       "      <td>-0.124276</td>\n",
       "      <td>0.268463</td>\n",
       "      <td>-0.170763</td>\n",
       "      <td>-0.290986</td>\n",
       "      <td>0.121116</td>\n",
       "      <td>-0.065394</td>\n",
       "    </tr>\n",
       "    <tr>\n",
       "      <th>ALTV</th>\n",
       "      <td>0.285630</td>\n",
       "      <td>0.285630</td>\n",
       "      <td>-0.345162</td>\n",
       "      <td>-0.247513</td>\n",
       "      <td>0.459413</td>\n",
       "      <td>-0.430573</td>\n",
       "      <td>1.000000</td>\n",
       "      <td>-0.266298</td>\n",
       "      <td>-0.140133</td>\n",
       "      <td>-0.451297</td>\n",
       "      <td>...</td>\n",
       "      <td>0.186480</td>\n",
       "      <td>-0.281536</td>\n",
       "      <td>0.131350</td>\n",
       "      <td>-0.240259</td>\n",
       "      <td>0.075927</td>\n",
       "      <td>-0.123011</td>\n",
       "      <td>0.478205</td>\n",
       "      <td>0.446388</td>\n",
       "      <td>0.303050</td>\n",
       "      <td>0.426146</td>\n",
       "    </tr>\n",
       "    <tr>\n",
       "      <th>DL</th>\n",
       "      <td>-0.155908</td>\n",
       "      <td>-0.155908</td>\n",
       "      <td>-0.011350</td>\n",
       "      <td>0.339484</td>\n",
       "      <td>-0.037040</td>\n",
       "      <td>0.504650</td>\n",
       "      <td>-0.266298</td>\n",
       "      <td>1.000000</td>\n",
       "      <td>0.294068</td>\n",
       "      <td>0.520656</td>\n",
       "      <td>...</td>\n",
       "      <td>-0.353878</td>\n",
       "      <td>0.515130</td>\n",
       "      <td>-0.263220</td>\n",
       "      <td>-0.321418</td>\n",
       "      <td>-0.108282</td>\n",
       "      <td>0.332372</td>\n",
       "      <td>-0.114025</td>\n",
       "      <td>-0.185229</td>\n",
       "      <td>0.395887</td>\n",
       "      <td>0.065328</td>\n",
       "    </tr>\n",
       "    <tr>\n",
       "      <th>DP</th>\n",
       "      <td>-0.117133</td>\n",
       "      <td>-0.117133</td>\n",
       "      <td>-0.110317</td>\n",
       "      <td>0.152395</td>\n",
       "      <td>0.053677</td>\n",
       "      <td>0.282386</td>\n",
       "      <td>-0.140133</td>\n",
       "      <td>0.294068</td>\n",
       "      <td>1.000000</td>\n",
       "      <td>0.282790</td>\n",
       "      <td>...</td>\n",
       "      <td>-0.445473</td>\n",
       "      <td>0.487212</td>\n",
       "      <td>-0.127485</td>\n",
       "      <td>-0.166116</td>\n",
       "      <td>-0.050837</td>\n",
       "      <td>0.757766</td>\n",
       "      <td>-0.032578</td>\n",
       "      <td>-0.086773</td>\n",
       "      <td>0.269300</td>\n",
       "      <td>0.490626</td>\n",
       "    </tr>\n",
       "    <tr>\n",
       "      <th>Width</th>\n",
       "      <td>-0.147679</td>\n",
       "      <td>-0.147679</td>\n",
       "      <td>0.291516</td>\n",
       "      <td>0.152990</td>\n",
       "      <td>-0.260463</td>\n",
       "      <td>0.634593</td>\n",
       "      <td>-0.451297</td>\n",
       "      <td>0.520656</td>\n",
       "      <td>0.282790</td>\n",
       "      <td>1.000000</td>\n",
       "      <td>...</td>\n",
       "      <td>-0.168854</td>\n",
       "      <td>0.615884</td>\n",
       "      <td>-0.363828</td>\n",
       "      <td>-0.017856</td>\n",
       "      <td>-0.083934</td>\n",
       "      <td>0.252086</td>\n",
       "      <td>-0.217054</td>\n",
       "      <td>-0.273728</td>\n",
       "      <td>0.154811</td>\n",
       "      <td>-0.068789</td>\n",
       "    </tr>\n",
       "    <tr>\n",
       "      <th>Min</th>\n",
       "      <td>0.361619</td>\n",
       "      <td>0.361619</td>\n",
       "      <td>-0.157447</td>\n",
       "      <td>-0.112597</td>\n",
       "      <td>0.275378</td>\n",
       "      <td>-0.602899</td>\n",
       "      <td>0.422834</td>\n",
       "      <td>-0.539125</td>\n",
       "      <td>-0.291175</td>\n",
       "      <td>-0.898519</td>\n",
       "      <td>...</td>\n",
       "      <td>0.400191</td>\n",
       "      <td>-0.545091</td>\n",
       "      <td>0.277790</td>\n",
       "      <td>0.090615</td>\n",
       "      <td>0.145822</td>\n",
       "      <td>-0.265941</td>\n",
       "      <td>0.175951</td>\n",
       "      <td>0.283774</td>\n",
       "      <td>-0.164347</td>\n",
       "      <td>0.063175</td>\n",
       "    </tr>\n",
       "    <tr>\n",
       "      <th>Mode</th>\n",
       "      <td>0.708993</td>\n",
       "      <td>0.708993</td>\n",
       "      <td>0.221693</td>\n",
       "      <td>-0.077695</td>\n",
       "      <td>0.058363</td>\n",
       "      <td>-0.308069</td>\n",
       "      <td>0.165211</td>\n",
       "      <td>-0.315463</td>\n",
       "      <td>-0.413445</td>\n",
       "      <td>-0.159261</td>\n",
       "      <td>...</td>\n",
       "      <td>0.933399</td>\n",
       "      <td>-0.312765</td>\n",
       "      <td>-0.027292</td>\n",
       "      <td>0.088147</td>\n",
       "      <td>0.187111</td>\n",
       "      <td>-0.528810</td>\n",
       "      <td>-0.001976</td>\n",
       "      <td>0.153325</td>\n",
       "      <td>-0.098675</td>\n",
       "      <td>-0.250412</td>\n",
       "    </tr>\n",
       "    <tr>\n",
       "      <th>Mean</th>\n",
       "      <td>0.723121</td>\n",
       "      <td>0.723121</td>\n",
       "      <td>0.236811</td>\n",
       "      <td>-0.169739</td>\n",
       "      <td>0.074554</td>\n",
       "      <td>-0.440275</td>\n",
       "      <td>0.222321</td>\n",
       "      <td>-0.509446</td>\n",
       "      <td>-0.511503</td>\n",
       "      <td>-0.280846</td>\n",
       "      <td>...</td>\n",
       "      <td>0.948251</td>\n",
       "      <td>-0.399423</td>\n",
       "      <td>0.020435</td>\n",
       "      <td>0.197463</td>\n",
       "      <td>0.201832</td>\n",
       "      <td>-0.554827</td>\n",
       "      <td>0.036414</td>\n",
       "      <td>0.196841</td>\n",
       "      <td>-0.189629</td>\n",
       "      <td>-0.226985</td>\n",
       "    </tr>\n",
       "    <tr>\n",
       "      <th>Median</th>\n",
       "      <td>0.789246</td>\n",
       "      <td>0.789246</td>\n",
       "      <td>0.250729</td>\n",
       "      <td>-0.111041</td>\n",
       "      <td>0.119960</td>\n",
       "      <td>-0.336042</td>\n",
       "      <td>0.186480</td>\n",
       "      <td>-0.353878</td>\n",
       "      <td>-0.445473</td>\n",
       "      <td>-0.168854</td>\n",
       "      <td>...</td>\n",
       "      <td>1.000000</td>\n",
       "      <td>-0.294105</td>\n",
       "      <td>-0.026348</td>\n",
       "      <td>0.129652</td>\n",
       "      <td>0.201816</td>\n",
       "      <td>-0.495755</td>\n",
       "      <td>0.010051</td>\n",
       "      <td>0.175329</td>\n",
       "      <td>-0.116548</td>\n",
       "      <td>-0.205033</td>\n",
       "    </tr>\n",
       "    <tr>\n",
       "      <th>Variance</th>\n",
       "      <td>-0.133938</td>\n",
       "      <td>-0.133938</td>\n",
       "      <td>0.111981</td>\n",
       "      <td>0.184188</td>\n",
       "      <td>-0.146434</td>\n",
       "      <td>0.541739</td>\n",
       "      <td>-0.281536</td>\n",
       "      <td>0.515130</td>\n",
       "      <td>0.487212</td>\n",
       "      <td>0.615884</td>\n",
       "      <td>...</td>\n",
       "      <td>-0.294105</td>\n",
       "      <td>1.000000</td>\n",
       "      <td>-0.271213</td>\n",
       "      <td>-0.186183</td>\n",
       "      <td>-0.090133</td>\n",
       "      <td>0.503551</td>\n",
       "      <td>-0.099754</td>\n",
       "      <td>-0.194757</td>\n",
       "      <td>0.284504</td>\n",
       "      <td>0.206630</td>\n",
       "    </tr>\n",
       "    <tr>\n",
       "      <th>calm sleep</th>\n",
       "      <td>-0.023075</td>\n",
       "      <td>-0.023075</td>\n",
       "      <td>-0.315433</td>\n",
       "      <td>-0.042272</td>\n",
       "      <td>0.046221</td>\n",
       "      <td>-0.265670</td>\n",
       "      <td>0.131350</td>\n",
       "      <td>-0.263220</td>\n",
       "      <td>-0.127485</td>\n",
       "      <td>-0.363828</td>\n",
       "      <td>...</td>\n",
       "      <td>-0.026348</td>\n",
       "      <td>-0.271213</td>\n",
       "      <td>1.000000</td>\n",
       "      <td>-0.287234</td>\n",
       "      <td>-0.087904</td>\n",
       "      <td>-0.108085</td>\n",
       "      <td>-0.085990</td>\n",
       "      <td>-0.150041</td>\n",
       "      <td>-0.544553</td>\n",
       "      <td>-0.228640</td>\n",
       "    </tr>\n",
       "    <tr>\n",
       "      <th>REM sleep</th>\n",
       "      <td>-0.048750</td>\n",
       "      <td>-0.048750</td>\n",
       "      <td>0.467663</td>\n",
       "      <td>0.023350</td>\n",
       "      <td>-0.139987</td>\n",
       "      <td>-0.059565</td>\n",
       "      <td>-0.240259</td>\n",
       "      <td>-0.321418</td>\n",
       "      <td>-0.166116</td>\n",
       "      <td>-0.017856</td>\n",
       "      <td>...</td>\n",
       "      <td>0.129652</td>\n",
       "      <td>-0.186183</td>\n",
       "      <td>-0.287234</td>\n",
       "      <td>1.000000</td>\n",
       "      <td>-0.114541</td>\n",
       "      <td>-0.140837</td>\n",
       "      <td>-0.112047</td>\n",
       "      <td>-0.195506</td>\n",
       "      <td>-0.507403</td>\n",
       "      <td>-0.303112</td>\n",
       "    </tr>\n",
       "    <tr>\n",
       "      <th>SH</th>\n",
       "      <td>0.158350</td>\n",
       "      <td>0.158350</td>\n",
       "      <td>-0.116153</td>\n",
       "      <td>-0.026050</td>\n",
       "      <td>0.072269</td>\n",
       "      <td>-0.124276</td>\n",
       "      <td>0.075927</td>\n",
       "      <td>-0.108282</td>\n",
       "      <td>-0.050837</td>\n",
       "      <td>-0.083934</td>\n",
       "      <td>...</td>\n",
       "      <td>0.201816</td>\n",
       "      <td>-0.090133</td>\n",
       "      <td>-0.087904</td>\n",
       "      <td>-0.114541</td>\n",
       "      <td>1.000000</td>\n",
       "      <td>-0.043101</td>\n",
       "      <td>-0.034290</td>\n",
       "      <td>-0.059832</td>\n",
       "      <td>0.030323</td>\n",
       "      <td>0.199349</td>\n",
       "    </tr>\n",
       "    <tr>\n",
       "      <th>LD</th>\n",
       "      <td>-0.122136</td>\n",
       "      <td>-0.122136</td>\n",
       "      <td>-0.140998</td>\n",
       "      <td>0.113672</td>\n",
       "      <td>0.137192</td>\n",
       "      <td>0.268463</td>\n",
       "      <td>-0.123011</td>\n",
       "      <td>0.332372</td>\n",
       "      <td>0.757766</td>\n",
       "      <td>0.252086</td>\n",
       "      <td>...</td>\n",
       "      <td>-0.495755</td>\n",
       "      <td>0.503551</td>\n",
       "      <td>-0.108085</td>\n",
       "      <td>-0.140837</td>\n",
       "      <td>-0.043101</td>\n",
       "      <td>1.000000</td>\n",
       "      <td>-0.042163</td>\n",
       "      <td>-0.073568</td>\n",
       "      <td>0.265504</td>\n",
       "      <td>0.635526</td>\n",
       "    </tr>\n",
       "    <tr>\n",
       "      <th>FS</th>\n",
       "      <td>0.069885</td>\n",
       "      <td>0.069885</td>\n",
       "      <td>-0.140062</td>\n",
       "      <td>-0.205653</td>\n",
       "      <td>0.308643</td>\n",
       "      <td>-0.170763</td>\n",
       "      <td>0.478205</td>\n",
       "      <td>-0.114025</td>\n",
       "      <td>-0.032578</td>\n",
       "      <td>-0.217054</td>\n",
       "      <td>...</td>\n",
       "      <td>0.010051</td>\n",
       "      <td>-0.099754</td>\n",
       "      <td>-0.085990</td>\n",
       "      <td>-0.112047</td>\n",
       "      <td>-0.034290</td>\n",
       "      <td>-0.042163</td>\n",
       "      <td>1.000000</td>\n",
       "      <td>-0.058529</td>\n",
       "      <td>0.271752</td>\n",
       "      <td>0.501290</td>\n",
       "    </tr>\n",
       "    <tr>\n",
       "      <th>SUSP</th>\n",
       "      <td>0.283783</td>\n",
       "      <td>0.283783</td>\n",
       "      <td>-0.238009</td>\n",
       "      <td>-0.251330</td>\n",
       "      <td>0.364282</td>\n",
       "      <td>-0.290986</td>\n",
       "      <td>0.446388</td>\n",
       "      <td>-0.185229</td>\n",
       "      <td>-0.086773</td>\n",
       "      <td>-0.273728</td>\n",
       "      <td>...</td>\n",
       "      <td>0.175329</td>\n",
       "      <td>-0.194757</td>\n",
       "      <td>-0.150041</td>\n",
       "      <td>-0.195506</td>\n",
       "      <td>-0.059832</td>\n",
       "      <td>-0.073568</td>\n",
       "      <td>-0.058529</td>\n",
       "      <td>1.000000</td>\n",
       "      <td>0.579770</td>\n",
       "      <td>0.364583</td>\n",
       "    </tr>\n",
       "    <tr>\n",
       "      <th>CLASS</th>\n",
       "      <td>0.143001</td>\n",
       "      <td>0.143001</td>\n",
       "      <td>-0.255205</td>\n",
       "      <td>-0.073465</td>\n",
       "      <td>0.284580</td>\n",
       "      <td>0.121116</td>\n",
       "      <td>0.303050</td>\n",
       "      <td>0.395887</td>\n",
       "      <td>0.269300</td>\n",
       "      <td>0.154811</td>\n",
       "      <td>...</td>\n",
       "      <td>-0.116548</td>\n",
       "      <td>0.284504</td>\n",
       "      <td>-0.544553</td>\n",
       "      <td>-0.507403</td>\n",
       "      <td>0.030323</td>\n",
       "      <td>0.265504</td>\n",
       "      <td>0.271752</td>\n",
       "      <td>0.579770</td>\n",
       "      <td>1.000000</td>\n",
       "      <td>0.643034</td>\n",
       "    </tr>\n",
       "    <tr>\n",
       "      <th>NSP</th>\n",
       "      <td>0.148151</td>\n",
       "      <td>0.148151</td>\n",
       "      <td>-0.340394</td>\n",
       "      <td>-0.163295</td>\n",
       "      <td>0.471191</td>\n",
       "      <td>-0.065394</td>\n",
       "      <td>0.426146</td>\n",
       "      <td>0.065328</td>\n",
       "      <td>0.490626</td>\n",
       "      <td>-0.068789</td>\n",
       "      <td>...</td>\n",
       "      <td>-0.205033</td>\n",
       "      <td>0.206630</td>\n",
       "      <td>-0.228640</td>\n",
       "      <td>-0.303112</td>\n",
       "      <td>0.199349</td>\n",
       "      <td>0.635526</td>\n",
       "      <td>0.501290</td>\n",
       "      <td>0.364583</td>\n",
       "      <td>0.643034</td>\n",
       "      <td>1.000000</td>\n",
       "    </tr>\n",
       "  </tbody>\n",
       "</table>\n",
       "<p>23 rows × 23 columns</p>\n",
       "</div>"
      ],
      "text/plain": [
       "                 LBE        LB        AC        UC      ASTV      MSTV  \\\n",
       "LBE         1.000000  1.000000 -0.077967 -0.127722  0.305570 -0.276422   \n",
       "LB          1.000000  1.000000 -0.077967 -0.127722  0.305570 -0.276422   \n",
       "AC         -0.077967 -0.077967  1.000000  0.212100 -0.197985  0.181558   \n",
       "UC         -0.127722 -0.127722  0.212100  1.000000 -0.079651  0.215609   \n",
       "ASTV        0.305570  0.305570 -0.197985 -0.079651  1.000000 -0.404212   \n",
       "MSTV       -0.276422 -0.276422  0.181558  0.215609 -0.404212  1.000000   \n",
       "ALTV        0.285630  0.285630 -0.345162 -0.247513  0.459413 -0.430573   \n",
       "DL         -0.155908 -0.155908 -0.011350  0.339484 -0.037040  0.504650   \n",
       "DP         -0.117133 -0.117133 -0.110317  0.152395  0.053677  0.282386   \n",
       "Width      -0.147679 -0.147679  0.291516  0.152990 -0.260463  0.634593   \n",
       "Min         0.361619  0.361619 -0.157447 -0.112597  0.275378 -0.602899   \n",
       "Mode        0.708993  0.708993  0.221693 -0.077695  0.058363 -0.308069   \n",
       "Mean        0.723121  0.723121  0.236811 -0.169739  0.074554 -0.440275   \n",
       "Median      0.789246  0.789246  0.250729 -0.111041  0.119960 -0.336042   \n",
       "Variance   -0.133938 -0.133938  0.111981  0.184188 -0.146434  0.541739   \n",
       "calm sleep -0.023075 -0.023075 -0.315433 -0.042272  0.046221 -0.265670   \n",
       "REM sleep  -0.048750 -0.048750  0.467663  0.023350 -0.139987 -0.059565   \n",
       "SH          0.158350  0.158350 -0.116153 -0.026050  0.072269 -0.124276   \n",
       "LD         -0.122136 -0.122136 -0.140998  0.113672  0.137192  0.268463   \n",
       "FS          0.069885  0.069885 -0.140062 -0.205653  0.308643 -0.170763   \n",
       "SUSP        0.283783  0.283783 -0.238009 -0.251330  0.364282 -0.290986   \n",
       "CLASS       0.143001  0.143001 -0.255205 -0.073465  0.284580  0.121116   \n",
       "NSP         0.148151  0.148151 -0.340394 -0.163295  0.471191 -0.065394   \n",
       "\n",
       "                ALTV        DL        DP     Width  ...    Median  Variance  \\\n",
       "LBE         0.285630 -0.155908 -0.117133 -0.147679  ...  0.789246 -0.133938   \n",
       "LB          0.285630 -0.155908 -0.117133 -0.147679  ...  0.789246 -0.133938   \n",
       "AC         -0.345162 -0.011350 -0.110317  0.291516  ...  0.250729  0.111981   \n",
       "UC         -0.247513  0.339484  0.152395  0.152990  ... -0.111041  0.184188   \n",
       "ASTV        0.459413 -0.037040  0.053677 -0.260463  ...  0.119960 -0.146434   \n",
       "MSTV       -0.430573  0.504650  0.282386  0.634593  ... -0.336042  0.541739   \n",
       "ALTV        1.000000 -0.266298 -0.140133 -0.451297  ...  0.186480 -0.281536   \n",
       "DL         -0.266298  1.000000  0.294068  0.520656  ... -0.353878  0.515130   \n",
       "DP         -0.140133  0.294068  1.000000  0.282790  ... -0.445473  0.487212   \n",
       "Width      -0.451297  0.520656  0.282790  1.000000  ... -0.168854  0.615884   \n",
       "Min         0.422834 -0.539125 -0.291175 -0.898519  ...  0.400191 -0.545091   \n",
       "Mode        0.165211 -0.315463 -0.413445 -0.159261  ...  0.933399 -0.312765   \n",
       "Mean        0.222321 -0.509446 -0.511503 -0.280846  ...  0.948251 -0.399423   \n",
       "Median      0.186480 -0.353878 -0.445473 -0.168854  ...  1.000000 -0.294105   \n",
       "Variance   -0.281536  0.515130  0.487212  0.615884  ... -0.294105  1.000000   \n",
       "calm sleep  0.131350 -0.263220 -0.127485 -0.363828  ... -0.026348 -0.271213   \n",
       "REM sleep  -0.240259 -0.321418 -0.166116 -0.017856  ...  0.129652 -0.186183   \n",
       "SH          0.075927 -0.108282 -0.050837 -0.083934  ...  0.201816 -0.090133   \n",
       "LD         -0.123011  0.332372  0.757766  0.252086  ... -0.495755  0.503551   \n",
       "FS          0.478205 -0.114025 -0.032578 -0.217054  ...  0.010051 -0.099754   \n",
       "SUSP        0.446388 -0.185229 -0.086773 -0.273728  ...  0.175329 -0.194757   \n",
       "CLASS       0.303050  0.395887  0.269300  0.154811  ... -0.116548  0.284504   \n",
       "NSP         0.426146  0.065328  0.490626 -0.068789  ... -0.205033  0.206630   \n",
       "\n",
       "            calm sleep  REM sleep        SH        LD        FS      SUSP  \\\n",
       "LBE          -0.023075  -0.048750  0.158350 -0.122136  0.069885  0.283783   \n",
       "LB           -0.023075  -0.048750  0.158350 -0.122136  0.069885  0.283783   \n",
       "AC           -0.315433   0.467663 -0.116153 -0.140998 -0.140062 -0.238009   \n",
       "UC           -0.042272   0.023350 -0.026050  0.113672 -0.205653 -0.251330   \n",
       "ASTV          0.046221  -0.139987  0.072269  0.137192  0.308643  0.364282   \n",
       "MSTV         -0.265670  -0.059565 -0.124276  0.268463 -0.170763 -0.290986   \n",
       "ALTV          0.131350  -0.240259  0.075927 -0.123011  0.478205  0.446388   \n",
       "DL           -0.263220  -0.321418 -0.108282  0.332372 -0.114025 -0.185229   \n",
       "DP           -0.127485  -0.166116 -0.050837  0.757766 -0.032578 -0.086773   \n",
       "Width        -0.363828  -0.017856 -0.083934  0.252086 -0.217054 -0.273728   \n",
       "Min           0.277790   0.090615  0.145822 -0.265941  0.175951  0.283774   \n",
       "Mode         -0.027292   0.088147  0.187111 -0.528810 -0.001976  0.153325   \n",
       "Mean          0.020435   0.197463  0.201832 -0.554827  0.036414  0.196841   \n",
       "Median       -0.026348   0.129652  0.201816 -0.495755  0.010051  0.175329   \n",
       "Variance     -0.271213  -0.186183 -0.090133  0.503551 -0.099754 -0.194757   \n",
       "calm sleep    1.000000  -0.287234 -0.087904 -0.108085 -0.085990 -0.150041   \n",
       "REM sleep    -0.287234   1.000000 -0.114541 -0.140837 -0.112047 -0.195506   \n",
       "SH           -0.087904  -0.114541  1.000000 -0.043101 -0.034290 -0.059832   \n",
       "LD           -0.108085  -0.140837 -0.043101  1.000000 -0.042163 -0.073568   \n",
       "FS           -0.085990  -0.112047 -0.034290 -0.042163  1.000000 -0.058529   \n",
       "SUSP         -0.150041  -0.195506 -0.059832 -0.073568 -0.058529  1.000000   \n",
       "CLASS        -0.544553  -0.507403  0.030323  0.265504  0.271752  0.579770   \n",
       "NSP          -0.228640  -0.303112  0.199349  0.635526  0.501290  0.364583   \n",
       "\n",
       "               CLASS       NSP  \n",
       "LBE         0.143001  0.148151  \n",
       "LB          0.143001  0.148151  \n",
       "AC         -0.255205 -0.340394  \n",
       "UC         -0.073465 -0.163295  \n",
       "ASTV        0.284580  0.471191  \n",
       "MSTV        0.121116 -0.065394  \n",
       "ALTV        0.303050  0.426146  \n",
       "DL          0.395887  0.065328  \n",
       "DP          0.269300  0.490626  \n",
       "Width       0.154811 -0.068789  \n",
       "Min        -0.164347  0.063175  \n",
       "Mode       -0.098675 -0.250412  \n",
       "Mean       -0.189629 -0.226985  \n",
       "Median     -0.116548 -0.205033  \n",
       "Variance    0.284504  0.206630  \n",
       "calm sleep -0.544553 -0.228640  \n",
       "REM sleep  -0.507403 -0.303112  \n",
       "SH          0.030323  0.199349  \n",
       "LD          0.265504  0.635526  \n",
       "FS          0.271752  0.501290  \n",
       "SUSP        0.579770  0.364583  \n",
       "CLASS       1.000000  0.643034  \n",
       "NSP         0.643034  1.000000  \n",
       "\n",
       "[23 rows x 23 columns]"
      ]
     },
     "execution_count": 2009,
     "metadata": {},
     "output_type": "execute_result"
    }
   ],
   "source": [
    "df.corr()"
   ]
  },
  {
   "cell_type": "code",
   "execution_count": 2010,
   "metadata": {},
   "outputs": [
    {
     "data": {
      "text/plain": [
       "<AxesSubplot:>"
      ]
     },
     "execution_count": 2010,
     "metadata": {},
     "output_type": "execute_result"
    },
    {
     "data": {
      "image/png": "[encoded data removed]",
      "text/plain": [
       "<Figure size 432x288 with 2 Axes>"
      ]
     },
     "metadata": {
      "needs_background": "light"
     },
     "output_type": "display_data"
    }
   ],
   "source": [
    "sns.heatmap(df.corr())"
   ]
  },
  {
   "cell_type": "code",
   "execution_count": 2011,
   "metadata": {},
   "outputs": [],
   "source": [
    "data_input = df.drop('NSP' , axis= 1)\n",
    "data_output = df['NSP']"
   ]
  },
  {
   "cell_type": "code",
   "execution_count": 2012,
   "metadata": {},
   "outputs": [
    {
     "data": {
      "text/plain": [
       "Index(['LBE', 'LB', 'AC', 'UC', 'ASTV', 'MSTV', 'ALTV', 'DL', 'DP', 'Width',\n",
       "       'Min', 'Mode', 'Mean', 'Median', 'Variance', 'calm sleep', 'REM sleep',\n",
       "       'SH', 'LD', 'FS', 'SUSP', 'CLASS'],\n",
       "      dtype='object')"
      ]
     },
     "execution_count": 2012,
     "metadata": {},
     "output_type": "execute_result"
    }
   ],
   "source": [
    "data_input.columns"
   ]
  },
  {
   "cell_type": "code",
   "execution_count": 2013,
   "metadata": {},
   "outputs": [],
   "source": [
    "df['NSP'] = df['NSP'].map({1 : 'Normal' , 2 : 'Suspect' ,3 : 'Pathologic'})"
   ]
  },
  {
   "cell_type": "code",
   "execution_count": 2014,
   "metadata": {},
   "outputs": [
    {
     "data": {
      "text/plain": [
       "array(['Suspect', 'Normal', 'Pathologic'], dtype=object)"
      ]
     },
     "execution_count": 2014,
     "metadata": {},
     "output_type": "execute_result"
    }
   ],
   "source": [
    "df['NSP'].unique()"
   ]
  },
  {
   "cell_type": "code",
   "execution_count": 2015,
   "metadata": {},
   "outputs": [
    {
     "data": {
      "text/plain": [
       "Normal        1655\n",
       "Suspect        295\n",
       "Pathologic     176\n",
       "Name: NSP, dtype: int64"
      ]
     },
     "execution_count": 2015,
     "metadata": {},
     "output_type": "execute_result"
    }
   ],
   "source": [
    "df['NSP'].value_counts(ascending=False)\n"
   ]
  },
  {
   "cell_type": "code",
   "execution_count": 2016,
   "metadata": {},
   "outputs": [
    {
     "data": {
      "image/png": "[encoded data removed]",
      "text/plain": [
       "<Figure size 432x288 with 1 Axes>"
      ]
     },
     "metadata": {
      "needs_background": "light"
     },
     "output_type": "display_data"
    }
   ],
   "source": [
    "sns.countplot(data = df, x = df['NSP'] , palette = 'mako')\n",
    "plt.xticks(rotation = 90)\n",
    "plt.xlabel('Cases')\n",
    "plt.ylabel('Count Cases')\n",
    "plt.show()"
   ]
  },
  {
   "cell_type": "code",
   "execution_count": 2017,
   "metadata": {},
   "outputs": [
    {
     "data": {
      "image/png": "[encoded data removed]",
      "text/plain": [
       "<Figure size 1440x720 with 1 Axes>"
      ]
     },
     "metadata": {},
     "output_type": "display_data"
    }
   ],
   "source": [
    "labels = df[\"NSP\"][:10].value_counts().index\n",
    "sizes = df[\"NSP\"][:10].value_counts()\n",
    "plt.figure(figsize = (20,10))\n",
    "plt.pie(sizes , labels=labels , autopct='%1.1f%%', shadow=True , startangle= 50 , textprops={'fontsize':25})\n",
    "plt.title('Fetal cases',color = 'red', fontsize = 30)\n",
    "plt.show()"
   ]
  },
  {
   "cell_type": "code",
   "execution_count": 2018,
   "metadata": {},
   "outputs": [],
   "source": [
    "df = pd.get_dummies(df)"
   ]
  },
  {
   "cell_type": "code",
   "execution_count": 2019,
   "metadata": {},
   "outputs": [
    {
     "data": {
      "text/html": [
       "<div>\n",
       "<style scoped>\n",
       "    .dataframe tbody tr th:only-of-type {\n",
       "        vertical-align: middle;\n",
       "    }\n",
       "\n",
       "    .dataframe tbody tr th {\n",
       "        vertical-align: top;\n",
       "    }\n",
       "\n",
       "    .dataframe thead th {\n",
       "        text-align: right;\n",
       "    }\n",
       "</style>\n",
       "<table border=\"1\" class=\"dataframe\">\n",
       "  <thead>\n",
       "    <tr style=\"text-align: right;\">\n",
       "      <th></th>\n",
       "      <th>LBE</th>\n",
       "      <th>LB</th>\n",
       "      <th>AC</th>\n",
       "      <th>UC</th>\n",
       "      <th>ASTV</th>\n",
       "      <th>MSTV</th>\n",
       "      <th>ALTV</th>\n",
       "      <th>DL</th>\n",
       "      <th>DP</th>\n",
       "      <th>Width</th>\n",
       "      <th>...</th>\n",
       "      <th>calm sleep</th>\n",
       "      <th>REM sleep</th>\n",
       "      <th>SH</th>\n",
       "      <th>LD</th>\n",
       "      <th>FS</th>\n",
       "      <th>SUSP</th>\n",
       "      <th>CLASS</th>\n",
       "      <th>NSP_Normal</th>\n",
       "      <th>NSP_Pathologic</th>\n",
       "      <th>NSP_Suspect</th>\n",
       "    </tr>\n",
       "  </thead>\n",
       "  <tbody>\n",
       "    <tr>\n",
       "      <th>0</th>\n",
       "      <td>120</td>\n",
       "      <td>120</td>\n",
       "      <td>0</td>\n",
       "      <td>0</td>\n",
       "      <td>73</td>\n",
       "      <td>0</td>\n",
       "      <td>43</td>\n",
       "      <td>0</td>\n",
       "      <td>0</td>\n",
       "      <td>64</td>\n",
       "      <td>...</td>\n",
       "      <td>0</td>\n",
       "      <td>0</td>\n",
       "      <td>0</td>\n",
       "      <td>0</td>\n",
       "      <td>1</td>\n",
       "      <td>0</td>\n",
       "      <td>9</td>\n",
       "      <td>0</td>\n",
       "      <td>0</td>\n",
       "      <td>1</td>\n",
       "    </tr>\n",
       "    <tr>\n",
       "      <th>1</th>\n",
       "      <td>132</td>\n",
       "      <td>132</td>\n",
       "      <td>4</td>\n",
       "      <td>4</td>\n",
       "      <td>17</td>\n",
       "      <td>2</td>\n",
       "      <td>0</td>\n",
       "      <td>2</td>\n",
       "      <td>0</td>\n",
       "      <td>130</td>\n",
       "      <td>...</td>\n",
       "      <td>0</td>\n",
       "      <td>0</td>\n",
       "      <td>0</td>\n",
       "      <td>0</td>\n",
       "      <td>0</td>\n",
       "      <td>0</td>\n",
       "      <td>6</td>\n",
       "      <td>1</td>\n",
       "      <td>0</td>\n",
       "      <td>0</td>\n",
       "    </tr>\n",
       "    <tr>\n",
       "      <th>2</th>\n",
       "      <td>133</td>\n",
       "      <td>133</td>\n",
       "      <td>2</td>\n",
       "      <td>5</td>\n",
       "      <td>16</td>\n",
       "      <td>2</td>\n",
       "      <td>0</td>\n",
       "      <td>2</td>\n",
       "      <td>0</td>\n",
       "      <td>130</td>\n",
       "      <td>...</td>\n",
       "      <td>0</td>\n",
       "      <td>0</td>\n",
       "      <td>0</td>\n",
       "      <td>0</td>\n",
       "      <td>0</td>\n",
       "      <td>0</td>\n",
       "      <td>6</td>\n",
       "      <td>1</td>\n",
       "      <td>0</td>\n",
       "      <td>0</td>\n",
       "    </tr>\n",
       "    <tr>\n",
       "      <th>3</th>\n",
       "      <td>134</td>\n",
       "      <td>134</td>\n",
       "      <td>2</td>\n",
       "      <td>6</td>\n",
       "      <td>16</td>\n",
       "      <td>2</td>\n",
       "      <td>0</td>\n",
       "      <td>2</td>\n",
       "      <td>0</td>\n",
       "      <td>117</td>\n",
       "      <td>...</td>\n",
       "      <td>0</td>\n",
       "      <td>0</td>\n",
       "      <td>0</td>\n",
       "      <td>0</td>\n",
       "      <td>0</td>\n",
       "      <td>0</td>\n",
       "      <td>6</td>\n",
       "      <td>1</td>\n",
       "      <td>0</td>\n",
       "      <td>0</td>\n",
       "    </tr>\n",
       "    <tr>\n",
       "      <th>4</th>\n",
       "      <td>132</td>\n",
       "      <td>132</td>\n",
       "      <td>4</td>\n",
       "      <td>5</td>\n",
       "      <td>16</td>\n",
       "      <td>2</td>\n",
       "      <td>0</td>\n",
       "      <td>0</td>\n",
       "      <td>0</td>\n",
       "      <td>117</td>\n",
       "      <td>...</td>\n",
       "      <td>0</td>\n",
       "      <td>1</td>\n",
       "      <td>0</td>\n",
       "      <td>0</td>\n",
       "      <td>0</td>\n",
       "      <td>0</td>\n",
       "      <td>2</td>\n",
       "      <td>1</td>\n",
       "      <td>0</td>\n",
       "      <td>0</td>\n",
       "    </tr>\n",
       "  </tbody>\n",
       "</table>\n",
       "<p>5 rows × 25 columns</p>\n",
       "</div>"
      ],
      "text/plain": [
       "   LBE   LB  AC  UC  ASTV  MSTV  ALTV  DL  DP  Width  ...  calm sleep  \\\n",
       "0  120  120   0   0    73     0    43   0   0     64  ...           0   \n",
       "1  132  132   4   4    17     2     0   2   0    130  ...           0   \n",
       "2  133  133   2   5    16     2     0   2   0    130  ...           0   \n",
       "3  134  134   2   6    16     2     0   2   0    117  ...           0   \n",
       "4  132  132   4   5    16     2     0   0   0    117  ...           0   \n",
       "\n",
       "   REM sleep  SH  LD  FS  SUSP  CLASS  NSP_Normal  NSP_Pathologic  NSP_Suspect  \n",
       "0          0   0   0   1     0      9           0               0            1  \n",
       "1          0   0   0   0     0      6           1               0            0  \n",
       "2          0   0   0   0     0      6           1               0            0  \n",
       "3          0   0   0   0     0      6           1               0            0  \n",
       "4          1   0   0   0     0      2           1               0            0  \n",
       "\n",
       "[5 rows x 25 columns]"
      ]
     },
     "execution_count": 2019,
     "metadata": {},
     "output_type": "execute_result"
    }
   ],
   "source": [
    "df.head()"
   ]
  },
  {
   "cell_type": "code",
   "execution_count": 2020,
   "metadata": {},
   "outputs": [],
   "source": [
    "x , x_test , y , y_test = train_test_split(data_input , data_output , test_size= 0.2 , random_state= 0)\n",
    "x_train , x_val , y_train , y_val = train_test_split(x , y , test_size= 0.2 , random_state=0)"
   ]
  },
  {
   "attachments": {},
   "cell_type": "markdown",
   "metadata": {},
   "source": [
    "                                               Feature selection Techniques"
   ]
  },
  {
   "cell_type": "code",
   "execution_count": 2021,
   "metadata": {},
   "outputs": [],
   "source": [
    "def correlation(dataset, threshold):\n",
    "    col_corr = set()  \n",
    "    corr_matrix = dataset.corr()\n",
    "    for i in range(len(corr_matrix.columns)):\n",
    "        for j in range(i):\n",
    "            if abs(corr_matrix.iloc[i, j]) > threshold: colname = corr_matrix.columns[i]                  \n",
    "    col_corr.add(colname)\n",
    "    return col_corr    "
   ]
  },
  {
   "attachments": {},
   "cell_type": "markdown",
   "metadata": {},
   "source": [
    " Getting correlated features"
   ]
  },
  {
   "cell_type": "code",
   "execution_count": 2022,
   "metadata": {},
   "outputs": [
    {
     "data": {
      "text/plain": [
       "{'CLASS'}"
      ]
     },
     "execution_count": 2022,
     "metadata": {},
     "output_type": "execute_result"
    }
   ],
   "source": [
    "corr_features = correlation(x_train , 0.5)\n",
    "corr_features"
   ]
  },
  {
   "cell_type": "code",
   "execution_count": 2023,
   "metadata": {},
   "outputs": [
    {
     "data": {
      "text/html": [
       "<div>\n",
       "<style scoped>\n",
       "    .dataframe tbody tr th:only-of-type {\n",
       "        vertical-align: middle;\n",
       "    }\n",
       "\n",
       "    .dataframe tbody tr th {\n",
       "        vertical-align: top;\n",
       "    }\n",
       "\n",
       "    .dataframe thead th {\n",
       "        text-align: right;\n",
       "    }\n",
       "</style>\n",
       "<table border=\"1\" class=\"dataframe\">\n",
       "  <thead>\n",
       "    <tr style=\"text-align: right;\">\n",
       "      <th></th>\n",
       "      <th>LBE</th>\n",
       "      <th>LB</th>\n",
       "      <th>AC</th>\n",
       "      <th>UC</th>\n",
       "      <th>ASTV</th>\n",
       "      <th>MSTV</th>\n",
       "      <th>ALTV</th>\n",
       "      <th>DL</th>\n",
       "      <th>DP</th>\n",
       "      <th>Width</th>\n",
       "      <th>...</th>\n",
       "      <th>Mean</th>\n",
       "      <th>Median</th>\n",
       "      <th>Variance</th>\n",
       "      <th>calm sleep</th>\n",
       "      <th>REM sleep</th>\n",
       "      <th>SH</th>\n",
       "      <th>LD</th>\n",
       "      <th>FS</th>\n",
       "      <th>SUSP</th>\n",
       "      <th>CLASS</th>\n",
       "    </tr>\n",
       "  </thead>\n",
       "  <tbody>\n",
       "    <tr>\n",
       "      <th>1913</th>\n",
       "      <td>140</td>\n",
       "      <td>140</td>\n",
       "      <td>3</td>\n",
       "      <td>5</td>\n",
       "      <td>65</td>\n",
       "      <td>0</td>\n",
       "      <td>0</td>\n",
       "      <td>3</td>\n",
       "      <td>0</td>\n",
       "      <td>73</td>\n",
       "      <td>...</td>\n",
       "      <td>141</td>\n",
       "      <td>145</td>\n",
       "      <td>13</td>\n",
       "      <td>0</td>\n",
       "      <td>0</td>\n",
       "      <td>0</td>\n",
       "      <td>0</td>\n",
       "      <td>0</td>\n",
       "      <td>0</td>\n",
       "      <td>6</td>\n",
       "    </tr>\n",
       "    <tr>\n",
       "      <th>1053</th>\n",
       "      <td>127</td>\n",
       "      <td>127</td>\n",
       "      <td>8</td>\n",
       "      <td>6</td>\n",
       "      <td>30</td>\n",
       "      <td>1</td>\n",
       "      <td>0</td>\n",
       "      <td>1</td>\n",
       "      <td>0</td>\n",
       "      <td>119</td>\n",
       "      <td>...</td>\n",
       "      <td>138</td>\n",
       "      <td>137</td>\n",
       "      <td>18</td>\n",
       "      <td>0</td>\n",
       "      <td>1</td>\n",
       "      <td>0</td>\n",
       "      <td>0</td>\n",
       "      <td>0</td>\n",
       "      <td>0</td>\n",
       "      <td>2</td>\n",
       "    </tr>\n",
       "    <tr>\n",
       "      <th>2041</th>\n",
       "      <td>128</td>\n",
       "      <td>128</td>\n",
       "      <td>0</td>\n",
       "      <td>6</td>\n",
       "      <td>64</td>\n",
       "      <td>2</td>\n",
       "      <td>0</td>\n",
       "      <td>6</td>\n",
       "      <td>0</td>\n",
       "      <td>84</td>\n",
       "      <td>...</td>\n",
       "      <td>118</td>\n",
       "      <td>125</td>\n",
       "      <td>13</td>\n",
       "      <td>0</td>\n",
       "      <td>0</td>\n",
       "      <td>0</td>\n",
       "      <td>0</td>\n",
       "      <td>0</td>\n",
       "      <td>0</td>\n",
       "      <td>7</td>\n",
       "    </tr>\n",
       "    <tr>\n",
       "      <th>126</th>\n",
       "      <td>159</td>\n",
       "      <td>159</td>\n",
       "      <td>0</td>\n",
       "      <td>3</td>\n",
       "      <td>69</td>\n",
       "      <td>0</td>\n",
       "      <td>21</td>\n",
       "      <td>0</td>\n",
       "      <td>0</td>\n",
       "      <td>15</td>\n",
       "      <td>...</td>\n",
       "      <td>163</td>\n",
       "      <td>164</td>\n",
       "      <td>0</td>\n",
       "      <td>0</td>\n",
       "      <td>0</td>\n",
       "      <td>0</td>\n",
       "      <td>0</td>\n",
       "      <td>0</td>\n",
       "      <td>1</td>\n",
       "      <td>10</td>\n",
       "    </tr>\n",
       "    <tr>\n",
       "      <th>1130</th>\n",
       "      <td>122</td>\n",
       "      <td>122</td>\n",
       "      <td>4</td>\n",
       "      <td>3</td>\n",
       "      <td>20</td>\n",
       "      <td>2</td>\n",
       "      <td>0</td>\n",
       "      <td>4</td>\n",
       "      <td>0</td>\n",
       "      <td>98</td>\n",
       "      <td>...</td>\n",
       "      <td>121</td>\n",
       "      <td>126</td>\n",
       "      <td>31</td>\n",
       "      <td>0</td>\n",
       "      <td>0</td>\n",
       "      <td>0</td>\n",
       "      <td>0</td>\n",
       "      <td>0</td>\n",
       "      <td>0</td>\n",
       "      <td>6</td>\n",
       "    </tr>\n",
       "    <tr>\n",
       "      <th>...</th>\n",
       "      <td>...</td>\n",
       "      <td>...</td>\n",
       "      <td>...</td>\n",
       "      <td>...</td>\n",
       "      <td>...</td>\n",
       "      <td>...</td>\n",
       "      <td>...</td>\n",
       "      <td>...</td>\n",
       "      <td>...</td>\n",
       "      <td>...</td>\n",
       "      <td>...</td>\n",
       "      <td>...</td>\n",
       "      <td>...</td>\n",
       "      <td>...</td>\n",
       "      <td>...</td>\n",
       "      <td>...</td>\n",
       "      <td>...</td>\n",
       "      <td>...</td>\n",
       "      <td>...</td>\n",
       "      <td>...</td>\n",
       "      <td>...</td>\n",
       "    </tr>\n",
       "    <tr>\n",
       "      <th>366</th>\n",
       "      <td>135</td>\n",
       "      <td>135</td>\n",
       "      <td>0</td>\n",
       "      <td>1</td>\n",
       "      <td>63</td>\n",
       "      <td>0</td>\n",
       "      <td>60</td>\n",
       "      <td>0</td>\n",
       "      <td>0</td>\n",
       "      <td>8</td>\n",
       "      <td>...</td>\n",
       "      <td>136</td>\n",
       "      <td>137</td>\n",
       "      <td>0</td>\n",
       "      <td>0</td>\n",
       "      <td>0</td>\n",
       "      <td>0</td>\n",
       "      <td>0</td>\n",
       "      <td>0</td>\n",
       "      <td>1</td>\n",
       "      <td>10</td>\n",
       "    </tr>\n",
       "    <tr>\n",
       "      <th>339</th>\n",
       "      <td>133</td>\n",
       "      <td>133</td>\n",
       "      <td>0</td>\n",
       "      <td>0</td>\n",
       "      <td>73</td>\n",
       "      <td>0</td>\n",
       "      <td>88</td>\n",
       "      <td>0</td>\n",
       "      <td>0</td>\n",
       "      <td>8</td>\n",
       "      <td>...</td>\n",
       "      <td>134</td>\n",
       "      <td>135</td>\n",
       "      <td>0</td>\n",
       "      <td>0</td>\n",
       "      <td>0</td>\n",
       "      <td>0</td>\n",
       "      <td>0</td>\n",
       "      <td>1</td>\n",
       "      <td>0</td>\n",
       "      <td>9</td>\n",
       "    </tr>\n",
       "    <tr>\n",
       "      <th>1071</th>\n",
       "      <td>133</td>\n",
       "      <td>133</td>\n",
       "      <td>1</td>\n",
       "      <td>6</td>\n",
       "      <td>27</td>\n",
       "      <td>1</td>\n",
       "      <td>13</td>\n",
       "      <td>4</td>\n",
       "      <td>0</td>\n",
       "      <td>95</td>\n",
       "      <td>...</td>\n",
       "      <td>133</td>\n",
       "      <td>138</td>\n",
       "      <td>43</td>\n",
       "      <td>0</td>\n",
       "      <td>0</td>\n",
       "      <td>0</td>\n",
       "      <td>0</td>\n",
       "      <td>0</td>\n",
       "      <td>0</td>\n",
       "      <td>6</td>\n",
       "    </tr>\n",
       "    <tr>\n",
       "      <th>1363</th>\n",
       "      <td>132</td>\n",
       "      <td>132</td>\n",
       "      <td>2</td>\n",
       "      <td>2</td>\n",
       "      <td>29</td>\n",
       "      <td>1</td>\n",
       "      <td>0</td>\n",
       "      <td>3</td>\n",
       "      <td>0</td>\n",
       "      <td>102</td>\n",
       "      <td>...</td>\n",
       "      <td>136</td>\n",
       "      <td>141</td>\n",
       "      <td>33</td>\n",
       "      <td>0</td>\n",
       "      <td>0</td>\n",
       "      <td>0</td>\n",
       "      <td>0</td>\n",
       "      <td>0</td>\n",
       "      <td>0</td>\n",
       "      <td>6</td>\n",
       "    </tr>\n",
       "    <tr>\n",
       "      <th>849</th>\n",
       "      <td>138</td>\n",
       "      <td>138</td>\n",
       "      <td>2</td>\n",
       "      <td>4</td>\n",
       "      <td>41</td>\n",
       "      <td>0</td>\n",
       "      <td>8</td>\n",
       "      <td>0</td>\n",
       "      <td>0</td>\n",
       "      <td>51</td>\n",
       "      <td>...</td>\n",
       "      <td>142</td>\n",
       "      <td>143</td>\n",
       "      <td>2</td>\n",
       "      <td>0</td>\n",
       "      <td>1</td>\n",
       "      <td>0</td>\n",
       "      <td>0</td>\n",
       "      <td>0</td>\n",
       "      <td>0</td>\n",
       "      <td>2</td>\n",
       "    </tr>\n",
       "  </tbody>\n",
       "</table>\n",
       "<p>1360 rows × 22 columns</p>\n",
       "</div>"
      ],
      "text/plain": [
       "      LBE   LB  AC  UC  ASTV  MSTV  ALTV  DL  DP  Width  ...  Mean  Median  \\\n",
       "1913  140  140   3   5    65     0     0   3   0     73  ...   141     145   \n",
       "1053  127  127   8   6    30     1     0   1   0    119  ...   138     137   \n",
       "2041  128  128   0   6    64     2     0   6   0     84  ...   118     125   \n",
       "126   159  159   0   3    69     0    21   0   0     15  ...   163     164   \n",
       "1130  122  122   4   3    20     2     0   4   0     98  ...   121     126   \n",
       "...   ...  ...  ..  ..   ...   ...   ...  ..  ..    ...  ...   ...     ...   \n",
       "366   135  135   0   1    63     0    60   0   0      8  ...   136     137   \n",
       "339   133  133   0   0    73     0    88   0   0      8  ...   134     135   \n",
       "1071  133  133   1   6    27     1    13   4   0     95  ...   133     138   \n",
       "1363  132  132   2   2    29     1     0   3   0    102  ...   136     141   \n",
       "849   138  138   2   4    41     0     8   0   0     51  ...   142     143   \n",
       "\n",
       "      Variance  calm sleep  REM sleep  SH  LD  FS  SUSP  CLASS  \n",
       "1913        13           0          0   0   0   0     0      6  \n",
       "1053        18           0          1   0   0   0     0      2  \n",
       "2041        13           0          0   0   0   0     0      7  \n",
       "126          0           0          0   0   0   0     1     10  \n",
       "1130        31           0          0   0   0   0     0      6  \n",
       "...        ...         ...        ...  ..  ..  ..   ...    ...  \n",
       "366          0           0          0   0   0   0     1     10  \n",
       "339          0           0          0   0   0   1     0      9  \n",
       "1071        43           0          0   0   0   0     0      6  \n",
       "1363        33           0          0   0   0   0     0      6  \n",
       "849          2           0          1   0   0   0     0      2  \n",
       "\n",
       "[1360 rows x 22 columns]"
      ]
     },
     "execution_count": 2023,
     "metadata": {},
     "output_type": "execute_result"
    }
   ],
   "source": [
    "x_train.drop(corr_features,axis=1)\n",
    "x_test.drop(corr_features,axis=1)\n",
    "x_train"
   ]
  },
  {
   "attachments": {},
   "cell_type": "markdown",
   "metadata": {},
   "source": [
    "Importing mutual information gain "
   ]
  },
  {
   "cell_type": "code",
   "execution_count": 2024,
   "metadata": {},
   "outputs": [
    {
     "data": {
      "text/plain": [
       "array([0.07065215, 0.06124927, 0.07715073, 0.03358808, 0.13108555,\n",
       "       0.11808856, 0.10326697, 0.04181211, 0.07389464, 0.06923831,\n",
       "       0.07145903, 0.09549652, 0.13830947, 0.0987287 , 0.04033611,\n",
       "       0.0602989 , 0.08143482, 0.04960944, 0.16485171, 0.07196624,\n",
       "       0.24587479, 0.40325276])"
      ]
     },
     "execution_count": 2024,
     "metadata": {},
     "output_type": "execute_result"
    }
   ],
   "source": [
    "mutual_info = mutual_info_classif(x_train, y_train)\n",
    "mutual_info"
   ]
  },
  {
   "cell_type": "code",
   "execution_count": 2025,
   "metadata": {},
   "outputs": [
    {
     "data": {
      "text/plain": [
       "CLASS         0.403253\n",
       "SUSP          0.245875\n",
       "LD            0.164852\n",
       "Mean          0.138309\n",
       "ASTV          0.131086\n",
       "MSTV          0.118089\n",
       "ALTV          0.103267\n",
       "Median        0.098729\n",
       "Mode          0.095497\n",
       "REM sleep     0.081435\n",
       "AC            0.077151\n",
       "DP            0.073895\n",
       "FS            0.071966\n",
       "Min           0.071459\n",
       "LBE           0.070652\n",
       "Width         0.069238\n",
       "LB            0.061249\n",
       "calm sleep    0.060299\n",
       "SH            0.049609\n",
       "DL            0.041812\n",
       "Variance      0.040336\n",
       "UC            0.033588\n",
       "dtype: float64"
      ]
     },
     "execution_count": 2025,
     "metadata": {},
     "output_type": "execute_result"
    }
   ],
   "source": [
    "mutual_info = pd.Series(mutual_info)\n",
    "mutual_info.index = x_train.columns\n",
    "mutual_info.sort_values(ascending=False)"
   ]
  },
  {
   "cell_type": "code",
   "execution_count": 2026,
   "metadata": {},
   "outputs": [
    {
     "data": {
      "text/plain": [
       "(22,)"
      ]
     },
     "execution_count": 2026,
     "metadata": {},
     "output_type": "execute_result"
    }
   ],
   "source": [
    "mutual_info.shape"
   ]
  },
  {
   "attachments": {},
   "cell_type": "markdown",
   "metadata": {},
   "source": [
    "Plotting the graph mutual_info values per feature"
   ]
  },
  {
   "cell_type": "code",
   "execution_count": 2027,
   "metadata": {},
   "outputs": [
    {
     "data": {
      "text/plain": [
       "<AxesSubplot:>"
      ]
     },
     "execution_count": 2027,
     "metadata": {},
     "output_type": "execute_result"
    },
    {
     "data": {
      "image/png": "[encoded data removed]",
      "text/plain": [
       "<Figure size 1440x576 with 1 Axes>"
      ]
     },
     "metadata": {
      "needs_background": "light"
     },
     "output_type": "display_data"
    }
   ],
   "source": [
    "mutual_info.sort_values(ascending=False).plot.bar(figsize=(20, 8))"
   ]
  },
  {
   "attachments": {},
   "cell_type": "markdown",
   "metadata": {},
   "source": [
    "Function to calculate Train , Validation"
   ]
  },
  {
   "cell_type": "code",
   "execution_count": 2028,
   "metadata": {},
   "outputs": [],
   "source": [
    "def model_classifier(clf , x_train , y_train , x_val , y_val) :\n",
    "    clf.fit(x_train , y_train)\n",
    "    y_predict_train = clf.predict(x_train)\n",
    "    y_predict_val = clf.predict(x_val)\n",
    "    acc_train = accuracy_score(y_train , y_predict_train)\n",
    "    acc_val = accuracy_score(y_val , y_predict_val)\n",
    "    print(clf.__class__.__name__)\n",
    "    print('accuracy train =' , acc_train)\n",
    "    print('accuracy Validation =' , acc_val)\n",
    "    print('*************************************')\n",
    "    return acc_train , acc_val"
   ]
  },
  {
   "attachments": {},
   "cell_type": "markdown",
   "metadata": {},
   "source": [
    "Models"
   ]
  },
  {
   "cell_type": "code",
   "execution_count": 2029,
   "metadata": {},
   "outputs": [],
   "source": [
    "AdaBoost = AdaBoostClassifier(n_estimators=50, learning_rate=1.0, algorithm='SAMME', random_state=0)\n",
    "random = RandomForestClassifier(max_depth=8, random_state=0)\n",
    "knn = KNeighborsClassifier(n_neighbors= 5 , weights='uniform', algorithm='auto', leaf_size=10)\n",
    "svm = SVC(C=1.0, kernel='rbf', degree=1, gamma='scale' , random_state=0)\n",
    "tree = DecisionTreeClassifier(max_depth=7 , random_state=0)"
   ]
  },
  {
   "cell_type": "code",
   "execution_count": 2030,
   "metadata": {},
   "outputs": [],
   "source": [
    "models = [('Ada Boost', AdaBoost) , ('Random Forest' , random) \n",
    "            , ('K-nearest neighbors' , knn) , ('SVM Classifier', svm) , \n",
    "             ('Decision Tree' , tree)]"
   ]
  },
  {
   "cell_type": "code",
   "execution_count": 2031,
   "metadata": {},
   "outputs": [
    {
     "name": "stdout",
     "output_type": "stream",
     "text": [
      "AdaBoostClassifier\n",
      "accuracy train = 0.9779411764705882\n",
      "accuracy Validation = 0.9852941176470589\n",
      "*************************************\n",
      "RandomForestClassifier\n",
      "accuracy train = 0.9933823529411765\n",
      "accuracy Validation = 0.9852941176470589\n",
      "*************************************\n",
      "KNeighborsClassifier\n",
      "accuracy train = 0.9308823529411765\n",
      "accuracy Validation = 0.8970588235294118\n",
      "*************************************\n",
      "SVC\n",
      "accuracy train = 0.8727941176470588\n",
      "accuracy Validation = 0.8823529411764706\n",
      "*************************************\n",
      "DecisionTreeClassifier\n",
      "accuracy train = 0.9970588235294118\n",
      "accuracy Validation = 0.9852941176470589\n",
      "*************************************\n",
      "VotingClassifier\n",
      "accuracy train = 0.9838235294117647\n",
      "accuracy Validation = 0.9823529411764705\n",
      "*************************************\n"
     ]
    }
   ],
   "source": [
    "voting_clf = VotingClassifier(models)\n",
    "all_models = models + [('voting' , voting_clf)]\n",
    "results = {'model' :[] , 'Accuracy Train' :[] , 'Accuracy Validation' :[]} \n",
    "for(name , clf) in all_models :\n",
    "    acc_train , acc_val = model_classifier(clf , x_train , y_train , x_val , y_val)\n",
    "    results['model'].append(name)\n",
    "    results['Accuracy Train'].append(acc_train)\n",
    "    results['Accuracy Validation'].append(acc_val)"
   ]
  },
  {
   "attachments": {},
   "cell_type": "markdown",
   "metadata": {},
   "source": [
    "                                            Models Machine Learning"
   ]
  },
  {
   "attachments": {},
   "cell_type": "markdown",
   "metadata": {},
   "source": [
    "Ada Boost Classifier"
   ]
  },
  {
   "cell_type": "code",
   "execution_count": 2032,
   "metadata": {},
   "outputs": [],
   "source": [
    "Best_adaBoost = AdaBoostClassifier(n_estimators=50, learning_rate=1.0, algorithm='SAMME', random_state=0)"
   ]
  },
  {
   "cell_type": "code",
   "execution_count": 2033,
   "metadata": {},
   "outputs": [],
   "source": [
    "y_adaboost_test = Best_adaBoost.fit(x_test , y_test)"
   ]
  },
  {
   "cell_type": "code",
   "execution_count": 2034,
   "metadata": {},
   "outputs": [],
   "source": [
    "y_predict_ada = y_adaboost_test.predict(x_test)"
   ]
  },
  {
   "cell_type": "code",
   "execution_count": 2035,
   "metadata": {},
   "outputs": [
    {
     "name": "stdout",
     "output_type": "stream",
     "text": [
      "Ada boost Classifier accuracy :  0.9671361502347418\n"
     ]
    }
   ],
   "source": [
    "acc_test_ada = accuracy_score(y_test , y_predict_ada)\n",
    "print('Ada boost Classifier accuracy : ' , acc_test_ada)\n"
   ]
  },
  {
   "cell_type": "code",
   "execution_count": 2036,
   "metadata": {},
   "outputs": [
    {
     "data": {
      "text/plain": [
       "Text(0.5, 1.0, 'Confusion Matrix Ada boost')"
      ]
     },
     "execution_count": 2036,
     "metadata": {},
     "output_type": "execute_result"
    },
    {
     "data": {
      "image/png": "[encoded data removed]",
      "text/plain": [
       "<Figure size 432x432 with 1 Axes>"
      ]
     },
     "metadata": {
      "needs_background": "light"
     },
     "output_type": "display_data"
    }
   ],
   "source": [
    "conf_matrix = confusion_matrix(y_true=y_test, y_pred= y_predict_ada)\n",
    "fig, ax = plot_confusion_matrix(conf_mat=conf_matrix, figsize=(6, 6), cmap=plt.cm.Oranges)\n",
    "plt.xlabel('Predictions', fontsize=18)\n",
    "plt.ylabel('Actuals', fontsize=18)\n",
    "plt.title('Confusion Matrix Ada boost', fontsize=18)"
   ]
  },
  {
   "cell_type": "code",
   "execution_count": 2037,
   "metadata": {},
   "outputs": [
    {
     "name": "stdout",
     "output_type": "stream",
     "text": [
      "              precision    recall  f1-score   support\n",
      "\n",
      "           0       0.98      0.98      0.98       326\n",
      "           1       0.89      0.86      0.88        58\n",
      "           2       1.00      1.00      1.00        42\n",
      "\n",
      "    accuracy                           0.97       426\n",
      "   macro avg       0.96      0.95      0.95       426\n",
      "weighted avg       0.97      0.97      0.97       426\n",
      "\n"
     ]
    }
   ],
   "source": [
    "report_random = classification_report(y_test, y_predict_ada, target_names = ['0', '1' ,'2'])\n",
    "print(report_random)"
   ]
  },
  {
   "attachments": {},
   "cell_type": "markdown",
   "metadata": {},
   "source": [
    "Cross Validation Ada Boost"
   ]
  },
  {
   "cell_type": "code",
   "execution_count": 2038,
   "metadata": {},
   "outputs": [
    {
     "data": {
      "text/plain": [
       "dict_keys(['fit_time', 'score_time', 'test_score'])"
      ]
     },
     "execution_count": 2038,
     "metadata": {},
     "output_type": "execute_result"
    }
   ],
   "source": [
    "cv_results = cross_validate(Best_adaBoost , x , y , cv=4)\n",
    "cv_results.keys()"
   ]
  },
  {
   "cell_type": "code",
   "execution_count": 2039,
   "metadata": {},
   "outputs": [
    {
     "name": "stdout",
     "output_type": "stream",
     "text": [
      "Accuracy Ada Boost After Cross Validation =  0.9294117647058824\n"
     ]
    }
   ],
   "source": [
    "acc_Adav = sorted(cv_results['test_score'])[0]\n",
    "print('Accuracy Ada Boost After Cross Validation = ' , acc_Adav)"
   ]
  },
  {
   "attachments": {},
   "cell_type": "markdown",
   "metadata": {},
   "source": [
    "Random Forest"
   ]
  },
  {
   "cell_type": "code",
   "execution_count": 2040,
   "metadata": {},
   "outputs": [
    {
     "data": {
      "text/html": [
       "<style>#sk-container-id-127 {color: black;background-color: white;}#sk-container-id-127 pre{padding: 0;}#sk-container-id-127 div.sk-toggleable {background-color: white;}#sk-container-id-127 label.sk-toggleable__label {cursor: pointer;display: block;width: 100%;margin-bottom: 0;padding: 0.3em;box-sizing: border-box;text-align: center;}#sk-container-id-127 label.sk-toggleable__label-arrow:before {content: \"▸\";float: left;margin-right: 0.25em;color: #696969;}#sk-container-id-127 label.sk-toggleable__label-arrow:hover:before {color: black;}#sk-container-id-127 div.sk-estimator:hover label.sk-toggleable__label-arrow:before {color: black;}#sk-container-id-127 div.sk-toggleable__content {max-height: 0;max-width: 0;overflow: hidden;text-align: left;background-color: #f0f8ff;}#sk-container-id-127 div.sk-toggleable__content pre {margin: 0.2em;color: black;border-radius: 0.25em;background-color: #f0f8ff;}#sk-container-id-127 input.sk-toggleable__control:checked~div.sk-toggleable__content {max-height: 200px;max-width: 100%;overflow: auto;}#sk-container-id-127 input.sk-toggleable__control:checked~label.sk-toggleable__label-arrow:before {content: \"▾\";}#sk-container-id-127 div.sk-estimator input.sk-toggleable__control:checked~label.sk-toggleable__label {background-color: #d4ebff;}#sk-container-id-127 div.sk-label input.sk-toggleable__control:checked~label.sk-toggleable__label {background-color: #d4ebff;}#sk-container-id-127 input.sk-hidden--visually {border: 0;clip: rect(1px 1px 1px 1px);clip: rect(1px, 1px, 1px, 1px);height: 1px;margin: -1px;overflow: hidden;padding: 0;position: absolute;width: 1px;}#sk-container-id-127 div.sk-estimator {font-family: monospace;background-color: #f0f8ff;border: 1px dotted black;border-radius: 0.25em;box-sizing: border-box;margin-bottom: 0.5em;}#sk-container-id-127 div.sk-estimator:hover {background-color: #d4ebff;}#sk-container-id-127 div.sk-parallel-item::after {content: \"\";width: 100%;border-bottom: 1px solid gray;flex-grow: 1;}#sk-container-id-127 div.sk-label:hover label.sk-toggleable__label {background-color: #d4ebff;}#sk-container-id-127 div.sk-serial::before {content: \"\";position: absolute;border-left: 1px solid gray;box-sizing: border-box;top: 0;bottom: 0;left: 50%;z-index: 0;}#sk-container-id-127 div.sk-serial {display: flex;flex-direction: column;align-items: center;background-color: white;padding-right: 0.2em;padding-left: 0.2em;position: relative;}#sk-container-id-127 div.sk-item {position: relative;z-index: 1;}#sk-container-id-127 div.sk-parallel {display: flex;align-items: stretch;justify-content: center;background-color: white;position: relative;}#sk-container-id-127 div.sk-item::before, #sk-container-id-127 div.sk-parallel-item::before {content: \"\";position: absolute;border-left: 1px solid gray;box-sizing: border-box;top: 0;bottom: 0;left: 50%;z-index: -1;}#sk-container-id-127 div.sk-parallel-item {display: flex;flex-direction: column;z-index: 1;position: relative;background-color: white;}#sk-container-id-127 div.sk-parallel-item:first-child::after {align-self: flex-end;width: 50%;}#sk-container-id-127 div.sk-parallel-item:last-child::after {align-self: flex-start;width: 50%;}#sk-container-id-127 div.sk-parallel-item:only-child::after {width: 0;}#sk-container-id-127 div.sk-dashed-wrapped {border: 1px dashed gray;margin: 0 0.4em 0.5em 0.4em;box-sizing: border-box;padding-bottom: 0.4em;background-color: white;}#sk-container-id-127 div.sk-label label {font-family: monospace;font-weight: bold;display: inline-block;line-height: 1.2em;}#sk-container-id-127 div.sk-label-container {text-align: center;}#sk-container-id-127 div.sk-container {/* jupyter's `normalize.less` sets `[hidden] { display: none; }` but bootstrap.min.css set `[hidden] { display: none !important; }` so we also need the `!important` here to be able to override the default hidden behavior on the sphinx rendered scikit-learn.org. See: https://github.com/scikit-learn/scikit-learn/issues/21755 */display: inline-block !important;position: relative;}#sk-container-id-127 div.sk-text-repr-fallback {display: none;}</style><div id=\"sk-container-id-127\" class=\"sk-top-container\"><div class=\"sk-text-repr-fallback\"><pre>RandomForestClassifier(max_depth=8, random_state=0)</pre><b>In a Jupyter environment, please rerun this cell to show the HTML representation or trust the notebook. <br />On GitHub, the HTML representation is unable to render, please try loading this page with nbviewer.org.</b></div><div class=\"sk-container\" hidden><div class=\"sk-item\"><div class=\"sk-estimator sk-toggleable\"><input class=\"sk-toggleable__control sk-hidden--visually\" id=\"sk-estimator-id-127\" type=\"checkbox\" checked><label for=\"sk-estimator-id-127\" class=\"sk-toggleable__label sk-toggleable__label-arrow\">RandomForestClassifier</label><div class=\"sk-toggleable__content\"><pre>RandomForestClassifier(max_depth=8, random_state=0)</pre></div></div></div></div></div>"
      ],
      "text/plain": [
       "RandomForestClassifier(max_depth=8, random_state=0)"
      ]
     },
     "execution_count": 2040,
     "metadata": {},
     "output_type": "execute_result"
    }
   ],
   "source": [
    "best_random = RandomForestClassifier(max_depth= 8 , random_state=0)\n",
    "best_random.fit(x_test , y_test)"
   ]
  },
  {
   "cell_type": "code",
   "execution_count": 2041,
   "metadata": {},
   "outputs": [],
   "source": [
    "y_predicttest = best_random.predict(x_test)"
   ]
  },
  {
   "cell_type": "code",
   "execution_count": 2042,
   "metadata": {},
   "outputs": [
    {
     "name": "stdout",
     "output_type": "stream",
     "text": [
      "Random Forest Classifier accuracy :  0.9906103286384976\n"
     ]
    }
   ],
   "source": [
    "acc_test_random = accuracy_score(y_test , y_predicttest)\n",
    "print('Random Forest Classifier accuracy : ' , acc_test_random)"
   ]
  },
  {
   "cell_type": "code",
   "execution_count": 2043,
   "metadata": {},
   "outputs": [
    {
     "data": {
      "text/plain": [
       "Text(0.5, 1.0, 'Confusion Matrix Random Forest')"
      ]
     },
     "execution_count": 2043,
     "metadata": {},
     "output_type": "execute_result"
    },
    {
     "data": {
      "image/png": "[encoded data removed]",
      "text/plain": [
       "<Figure size 432x432 with 1 Axes>"
      ]
     },
     "metadata": {
      "needs_background": "light"
     },
     "output_type": "display_data"
    }
   ],
   "source": [
    "conf_matrix = confusion_matrix(y_true=y_test, y_pred= y_predicttest)\n",
    "fig, ax = plot_confusion_matrix(conf_mat=conf_matrix, figsize=(6, 6), cmap=plt.cm.Blues)\n",
    "plt.xlabel('Predictions', fontsize=18)\n",
    "plt.ylabel('Actuals', fontsize=18)\n",
    "plt.title('Confusion Matrix Random Forest', fontsize=18)"
   ]
  },
  {
   "cell_type": "code",
   "execution_count": 2044,
   "metadata": {},
   "outputs": [
    {
     "name": "stdout",
     "output_type": "stream",
     "text": [
      "              precision    recall  f1-score   support\n",
      "\n",
      "           0       0.99      1.00      0.99       326\n",
      "           1       1.00      0.93      0.96        58\n",
      "           2       1.00      1.00      1.00        42\n",
      "\n",
      "    accuracy                           0.99       426\n",
      "   macro avg       1.00      0.98      0.99       426\n",
      "weighted avg       0.99      0.99      0.99       426\n",
      "\n"
     ]
    }
   ],
   "source": [
    "report_random = classification_report(y_test, y_predicttest, target_names = ['0', '1' ,'2'])\n",
    "print(report_random)"
   ]
  },
  {
   "attachments": {},
   "cell_type": "markdown",
   "metadata": {},
   "source": [
    "Cross Validation Rondom Forest"
   ]
  },
  {
   "cell_type": "code",
   "execution_count": 2045,
   "metadata": {},
   "outputs": [
    {
     "data": {
      "text/plain": [
       "dict_keys(['fit_time', 'score_time', 'test_score'])"
      ]
     },
     "execution_count": 2045,
     "metadata": {},
     "output_type": "execute_result"
    }
   ],
   "source": [
    "cv_results = cross_validate(best_random , x , y, cv=4)\n",
    "cv_results.keys()"
   ]
  },
  {
   "cell_type": "code",
   "execution_count": 2046,
   "metadata": {},
   "outputs": [
    {
     "name": "stdout",
     "output_type": "stream",
     "text": [
      "Accuracy Logistic Regression After Cross Validation =  0.9858823529411764\n"
     ]
    }
   ],
   "source": [
    "acc_rondomv = sorted(cv_results['test_score'])[0]\n",
    "print('Accuracy Logistic Regression After Cross Validation = ' , acc_rondomv)"
   ]
  },
  {
   "attachments": {},
   "cell_type": "markdown",
   "metadata": {},
   "source": [
    "KNN"
   ]
  },
  {
   "cell_type": "code",
   "execution_count": 2047,
   "metadata": {},
   "outputs": [
    {
     "data": {
      "text/html": [
       "<style>#sk-container-id-128 {color: black;background-color: white;}#sk-container-id-128 pre{padding: 0;}#sk-container-id-128 div.sk-toggleable {background-color: white;}#sk-container-id-128 label.sk-toggleable__label {cursor: pointer;display: block;width: 100%;margin-bottom: 0;padding: 0.3em;box-sizing: border-box;text-align: center;}#sk-container-id-128 label.sk-toggleable__label-arrow:before {content: \"▸\";float: left;margin-right: 0.25em;color: #696969;}#sk-container-id-128 label.sk-toggleable__label-arrow:hover:before {color: black;}#sk-container-id-128 div.sk-estimator:hover label.sk-toggleable__label-arrow:before {color: black;}#sk-container-id-128 div.sk-toggleable__content {max-height: 0;max-width: 0;overflow: hidden;text-align: left;background-color: #f0f8ff;}#sk-container-id-128 div.sk-toggleable__content pre {margin: 0.2em;color: black;border-radius: 0.25em;background-color: #f0f8ff;}#sk-container-id-128 input.sk-toggleable__control:checked~div.sk-toggleable__content {max-height: 200px;max-width: 100%;overflow: auto;}#sk-container-id-128 input.sk-toggleable__control:checked~label.sk-toggleable__label-arrow:before {content: \"▾\";}#sk-container-id-128 div.sk-estimator input.sk-toggleable__control:checked~label.sk-toggleable__label {background-color: #d4ebff;}#sk-container-id-128 div.sk-label input.sk-toggleable__control:checked~label.sk-toggleable__label {background-color: #d4ebff;}#sk-container-id-128 input.sk-hidden--visually {border: 0;clip: rect(1px 1px 1px 1px);clip: rect(1px, 1px, 1px, 1px);height: 1px;margin: -1px;overflow: hidden;padding: 0;position: absolute;width: 1px;}#sk-container-id-128 div.sk-estimator {font-family: monospace;background-color: #f0f8ff;border: 1px dotted black;border-radius: 0.25em;box-sizing: border-box;margin-bottom: 0.5em;}#sk-container-id-128 div.sk-estimator:hover {background-color: #d4ebff;}#sk-container-id-128 div.sk-parallel-item::after {content: \"\";width: 100%;border-bottom: 1px solid gray;flex-grow: 1;}#sk-container-id-128 div.sk-label:hover label.sk-toggleable__label {background-color: #d4ebff;}#sk-container-id-128 div.sk-serial::before {content: \"\";position: absolute;border-left: 1px solid gray;box-sizing: border-box;top: 0;bottom: 0;left: 50%;z-index: 0;}#sk-container-id-128 div.sk-serial {display: flex;flex-direction: column;align-items: center;background-color: white;padding-right: 0.2em;padding-left: 0.2em;position: relative;}#sk-container-id-128 div.sk-item {position: relative;z-index: 1;}#sk-container-id-128 div.sk-parallel {display: flex;align-items: stretch;justify-content: center;background-color: white;position: relative;}#sk-container-id-128 div.sk-item::before, #sk-container-id-128 div.sk-parallel-item::before {content: \"\";position: absolute;border-left: 1px solid gray;box-sizing: border-box;top: 0;bottom: 0;left: 50%;z-index: -1;}#sk-container-id-128 div.sk-parallel-item {display: flex;flex-direction: column;z-index: 1;position: relative;background-color: white;}#sk-container-id-128 div.sk-parallel-item:first-child::after {align-self: flex-end;width: 50%;}#sk-container-id-128 div.sk-parallel-item:last-child::after {align-self: flex-start;width: 50%;}#sk-container-id-128 div.sk-parallel-item:only-child::after {width: 0;}#sk-container-id-128 div.sk-dashed-wrapped {border: 1px dashed gray;margin: 0 0.4em 0.5em 0.4em;box-sizing: border-box;padding-bottom: 0.4em;background-color: white;}#sk-container-id-128 div.sk-label label {font-family: monospace;font-weight: bold;display: inline-block;line-height: 1.2em;}#sk-container-id-128 div.sk-label-container {text-align: center;}#sk-container-id-128 div.sk-container {/* jupyter's `normalize.less` sets `[hidden] { display: none; }` but bootstrap.min.css set `[hidden] { display: none !important; }` so we also need the `!important` here to be able to override the default hidden behavior on the sphinx rendered scikit-learn.org. See: https://github.com/scikit-learn/scikit-learn/issues/21755 */display: inline-block !important;position: relative;}#sk-container-id-128 div.sk-text-repr-fallback {display: none;}</style><div id=\"sk-container-id-128\" class=\"sk-top-container\"><div class=\"sk-text-repr-fallback\"><pre>KNeighborsClassifier(leaf_size=10)</pre><b>In a Jupyter environment, please rerun this cell to show the HTML representation or trust the notebook. <br />On GitHub, the HTML representation is unable to render, please try loading this page with nbviewer.org.</b></div><div class=\"sk-container\" hidden><div class=\"sk-item\"><div class=\"sk-estimator sk-toggleable\"><input class=\"sk-toggleable__control sk-hidden--visually\" id=\"sk-estimator-id-128\" type=\"checkbox\" checked><label for=\"sk-estimator-id-128\" class=\"sk-toggleable__label sk-toggleable__label-arrow\">KNeighborsClassifier</label><div class=\"sk-toggleable__content\"><pre>KNeighborsClassifier(leaf_size=10)</pre></div></div></div></div></div>"
      ],
      "text/plain": [
       "KNeighborsClassifier(leaf_size=10)"
      ]
     },
     "execution_count": 2047,
     "metadata": {},
     "output_type": "execute_result"
    }
   ],
   "source": [
    "best_knn = KNeighborsClassifier(n_neighbors= 5 , weights='uniform', algorithm='auto', leaf_size=10)\n",
    "best_knn.fit(x_test , y_test)"
   ]
  },
  {
   "cell_type": "code",
   "execution_count": 2048,
   "metadata": {},
   "outputs": [],
   "source": [
    "y_predict_testK = best_knn.predict(x_test)"
   ]
  },
  {
   "cell_type": "code",
   "execution_count": 2049,
   "metadata": {},
   "outputs": [
    {
     "name": "stdout",
     "output_type": "stream",
     "text": [
      "KNeighborsClassifier accuracy :  0.9272300469483568\n"
     ]
    }
   ],
   "source": [
    "acc_test_knn = accuracy_score(y_test , y_predict_testK)\n",
    "print('KNeighborsClassifier accuracy : ' , acc_test_knn)"
   ]
  },
  {
   "cell_type": "code",
   "execution_count": 2050,
   "metadata": {},
   "outputs": [
    {
     "data": {
      "text/plain": [
       "Text(0.5, 1.0, 'Confusion Matrix KNN')"
      ]
     },
     "execution_count": 2050,
     "metadata": {},
     "output_type": "execute_result"
    },
    {
     "data": {
      "image/png": "[encoded data removed]",
      "text/plain": [
       "<Figure size 432x432 with 1 Axes>"
      ]
     },
     "metadata": {
      "needs_background": "light"
     },
     "output_type": "display_data"
    }
   ],
   "source": [
    "conf_matrix = confusion_matrix(y_true=y_test, y_pred= y_predict_testK)\n",
    "fig, ax = plot_confusion_matrix(conf_mat=conf_matrix, figsize=(6, 6), cmap=plt.cm.Greens)\n",
    "plt.xlabel('Predictions', fontsize=18)\n",
    "plt.ylabel('Actuals', fontsize=18)\n",
    "plt.title('Confusion Matrix KNN', fontsize=18)"
   ]
  },
  {
   "cell_type": "code",
   "execution_count": 2051,
   "metadata": {},
   "outputs": [
    {
     "name": "stdout",
     "output_type": "stream",
     "text": [
      "              precision    recall  f1-score   support\n",
      "\n",
      "           0       0.94      0.98      0.96       326\n",
      "           1       0.84      0.72      0.78        58\n",
      "           2       0.94      0.79      0.86        42\n",
      "\n",
      "    accuracy                           0.93       426\n",
      "   macro avg       0.91      0.83      0.86       426\n",
      "weighted avg       0.93      0.93      0.92       426\n",
      "\n"
     ]
    }
   ],
   "source": [
    "report = classification_report(y_test, y_predict_testK , target_names = ['0', '1' , '2'])\n",
    "print(report)"
   ]
  },
  {
   "attachments": {},
   "cell_type": "markdown",
   "metadata": {},
   "source": [
    "Cross Validation KNN"
   ]
  },
  {
   "cell_type": "code",
   "execution_count": 2052,
   "metadata": {},
   "outputs": [
    {
     "data": {
      "text/plain": [
       "dict_keys(['fit_time', 'score_time', 'test_score'])"
      ]
     },
     "execution_count": 2052,
     "metadata": {},
     "output_type": "execute_result"
    }
   ],
   "source": [
    "cv_results = cross_validate(best_knn , x , y, cv=4)\n",
    "cv_results.keys()"
   ]
  },
  {
   "cell_type": "code",
   "execution_count": 2053,
   "metadata": {},
   "outputs": [
    {
     "name": "stdout",
     "output_type": "stream",
     "text": [
      "Accuracy KNN After Cross Validation =  0.88\n"
     ]
    }
   ],
   "source": [
    "acc_knnv = sorted(cv_results['test_score'])[0]\n",
    "print('Accuracy KNN After Cross Validation = ' , acc_knnv)"
   ]
  },
  {
   "attachments": {},
   "cell_type": "markdown",
   "metadata": {},
   "source": [
    "SVM"
   ]
  },
  {
   "cell_type": "code",
   "execution_count": 2054,
   "metadata": {},
   "outputs": [
    {
     "data": {
      "text/html": [
       "<style>#sk-container-id-129 {color: black;background-color: white;}#sk-container-id-129 pre{padding: 0;}#sk-container-id-129 div.sk-toggleable {background-color: white;}#sk-container-id-129 label.sk-toggleable__label {cursor: pointer;display: block;width: 100%;margin-bottom: 0;padding: 0.3em;box-sizing: border-box;text-align: center;}#sk-container-id-129 label.sk-toggleable__label-arrow:before {content: \"▸\";float: left;margin-right: 0.25em;color: #696969;}#sk-container-id-129 label.sk-toggleable__label-arrow:hover:before {color: black;}#sk-container-id-129 div.sk-estimator:hover label.sk-toggleable__label-arrow:before {color: black;}#sk-container-id-129 div.sk-toggleable__content {max-height: 0;max-width: 0;overflow: hidden;text-align: left;background-color: #f0f8ff;}#sk-container-id-129 div.sk-toggleable__content pre {margin: 0.2em;color: black;border-radius: 0.25em;background-color: #f0f8ff;}#sk-container-id-129 input.sk-toggleable__control:checked~div.sk-toggleable__content {max-height: 200px;max-width: 100%;overflow: auto;}#sk-container-id-129 input.sk-toggleable__control:checked~label.sk-toggleable__label-arrow:before {content: \"▾\";}#sk-container-id-129 div.sk-estimator input.sk-toggleable__control:checked~label.sk-toggleable__label {background-color: #d4ebff;}#sk-container-id-129 div.sk-label input.sk-toggleable__control:checked~label.sk-toggleable__label {background-color: #d4ebff;}#sk-container-id-129 input.sk-hidden--visually {border: 0;clip: rect(1px 1px 1px 1px);clip: rect(1px, 1px, 1px, 1px);height: 1px;margin: -1px;overflow: hidden;padding: 0;position: absolute;width: 1px;}#sk-container-id-129 div.sk-estimator {font-family: monospace;background-color: #f0f8ff;border: 1px dotted black;border-radius: 0.25em;box-sizing: border-box;margin-bottom: 0.5em;}#sk-container-id-129 div.sk-estimator:hover {background-color: #d4ebff;}#sk-container-id-129 div.sk-parallel-item::after {content: \"\";width: 100%;border-bottom: 1px solid gray;flex-grow: 1;}#sk-container-id-129 div.sk-label:hover label.sk-toggleable__label {background-color: #d4ebff;}#sk-container-id-129 div.sk-serial::before {content: \"\";position: absolute;border-left: 1px solid gray;box-sizing: border-box;top: 0;bottom: 0;left: 50%;z-index: 0;}#sk-container-id-129 div.sk-serial {display: flex;flex-direction: column;align-items: center;background-color: white;padding-right: 0.2em;padding-left: 0.2em;position: relative;}#sk-container-id-129 div.sk-item {position: relative;z-index: 1;}#sk-container-id-129 div.sk-parallel {display: flex;align-items: stretch;justify-content: center;background-color: white;position: relative;}#sk-container-id-129 div.sk-item::before, #sk-container-id-129 div.sk-parallel-item::before {content: \"\";position: absolute;border-left: 1px solid gray;box-sizing: border-box;top: 0;bottom: 0;left: 50%;z-index: -1;}#sk-container-id-129 div.sk-parallel-item {display: flex;flex-direction: column;z-index: 1;position: relative;background-color: white;}#sk-container-id-129 div.sk-parallel-item:first-child::after {align-self: flex-end;width: 50%;}#sk-container-id-129 div.sk-parallel-item:last-child::after {align-self: flex-start;width: 50%;}#sk-container-id-129 div.sk-parallel-item:only-child::after {width: 0;}#sk-container-id-129 div.sk-dashed-wrapped {border: 1px dashed gray;margin: 0 0.4em 0.5em 0.4em;box-sizing: border-box;padding-bottom: 0.4em;background-color: white;}#sk-container-id-129 div.sk-label label {font-family: monospace;font-weight: bold;display: inline-block;line-height: 1.2em;}#sk-container-id-129 div.sk-label-container {text-align: center;}#sk-container-id-129 div.sk-container {/* jupyter's `normalize.less` sets `[hidden] { display: none; }` but bootstrap.min.css set `[hidden] { display: none !important; }` so we also need the `!important` here to be able to override the default hidden behavior on the sphinx rendered scikit-learn.org. See: https://github.com/scikit-learn/scikit-learn/issues/21755 */display: inline-block !important;position: relative;}#sk-container-id-129 div.sk-text-repr-fallback {display: none;}</style><div id=\"sk-container-id-129\" class=\"sk-top-container\"><div class=\"sk-text-repr-fallback\"><pre>SVC(degree=1, random_state=0)</pre><b>In a Jupyter environment, please rerun this cell to show the HTML representation or trust the notebook. <br />On GitHub, the HTML representation is unable to render, please try loading this page with nbviewer.org.</b></div><div class=\"sk-container\" hidden><div class=\"sk-item\"><div class=\"sk-estimator sk-toggleable\"><input class=\"sk-toggleable__control sk-hidden--visually\" id=\"sk-estimator-id-129\" type=\"checkbox\" checked><label for=\"sk-estimator-id-129\" class=\"sk-toggleable__label sk-toggleable__label-arrow\">SVC</label><div class=\"sk-toggleable__content\"><pre>SVC(degree=1, random_state=0)</pre></div></div></div></div></div>"
      ],
      "text/plain": [
       "SVC(degree=1, random_state=0)"
      ]
     },
     "execution_count": 2054,
     "metadata": {},
     "output_type": "execute_result"
    }
   ],
   "source": [
    "best_svm = SVC(C=1.0, kernel='rbf', degree=1, gamma='scale' , random_state=0)\n",
    "svm.fit(x_test , y_test)"
   ]
  },
  {
   "cell_type": "code",
   "execution_count": 2055,
   "metadata": {},
   "outputs": [],
   "source": [
    "y_predict_test_svm = svm.predict(x_test)"
   ]
  },
  {
   "cell_type": "code",
   "execution_count": 2056,
   "metadata": {},
   "outputs": [
    {
     "name": "stdout",
     "output_type": "stream",
     "text": [
      "Support Vector Machine Accuracy :  0.7863849765258216\n"
     ]
    }
   ],
   "source": [
    "acc_svm = accuracy_score(y_predict_test_svm , y_test)\n",
    "print('Support Vector Machine Accuracy : ' , acc_svm)"
   ]
  },
  {
   "cell_type": "code",
   "execution_count": 2057,
   "metadata": {},
   "outputs": [
    {
     "data": {
      "text/plain": [
       "Text(0.5, 1.0, 'Confusion Matrix SVM')"
      ]
     },
     "execution_count": 2057,
     "metadata": {},
     "output_type": "execute_result"
    },
    {
     "data": {
      "image/png": "[encoded data removed]",
      "text/plain": [
       "<Figure size 432x432 with 1 Axes>"
      ]
     },
     "metadata": {
      "needs_background": "light"
     },
     "output_type": "display_data"
    }
   ],
   "source": [
    "conf_matrix = confusion_matrix(y_true=y_test, y_pred= y_predict_test_svm)\n",
    "fig, ax = plot_confusion_matrix(conf_mat=conf_matrix, figsize=(6, 6), cmap=plt.cm.BuPu)\n",
    "plt.xlabel('Predictions', fontsize=18)\n",
    "plt.ylabel('Actuals', fontsize=18)\n",
    "plt.title('Confusion Matrix SVM', fontsize=18)"
   ]
  },
  {
   "cell_type": "code",
   "execution_count": 2058,
   "metadata": {},
   "outputs": [
    {
     "name": "stdout",
     "output_type": "stream",
     "text": [
      "              precision    recall  f1-score   support\n",
      "\n",
      "           0       0.78      1.00      0.88       326\n",
      "           1       0.00      0.00      0.00        58\n",
      "           2       0.91      0.24      0.38        42\n",
      "\n",
      "    accuracy                           0.79       426\n",
      "   macro avg       0.56      0.41      0.42       426\n",
      "weighted avg       0.69      0.79      0.71       426\n",
      "\n"
     ]
    },
    {
     "name": "stderr",
     "output_type": "stream",
     "text": [
      "c:\\Users\\Arabtech\\AppData\\Local\\Programs\\Python\\Python310\\lib\\site-packages\\sklearn\\metrics\\_classification.py:1344: UndefinedMetricWarning: Precision and F-score are ill-defined and being set to 0.0 in labels with no predicted samples. Use `zero_division` parameter to control this behavior.\n",
      "  _warn_prf(average, modifier, msg_start, len(result))\n",
      "c:\\Users\\Arabtech\\AppData\\Local\\Programs\\Python\\Python310\\lib\\site-packages\\sklearn\\metrics\\_classification.py:1344: UndefinedMetricWarning: Precision and F-score are ill-defined and being set to 0.0 in labels with no predicted samples. Use `zero_division` parameter to control this behavior.\n",
      "  _warn_prf(average, modifier, msg_start, len(result))\n",
      "c:\\Users\\Arabtech\\AppData\\Local\\Programs\\Python\\Python310\\lib\\site-packages\\sklearn\\metrics\\_classification.py:1344: UndefinedMetricWarning: Precision and F-score are ill-defined and being set to 0.0 in labels with no predicted samples. Use `zero_division` parameter to control this behavior.\n",
      "  _warn_prf(average, modifier, msg_start, len(result))\n"
     ]
    }
   ],
   "source": [
    "report = classification_report(y_test, y_predict_test_svm, target_names = ['0', '1' , '2'])\n",
    "print(report)"
   ]
  },
  {
   "attachments": {},
   "cell_type": "markdown",
   "metadata": {},
   "source": [
    "Cross Validation SVM"
   ]
  },
  {
   "cell_type": "code",
   "execution_count": 2059,
   "metadata": {},
   "outputs": [
    {
     "data": {
      "text/plain": [
       "dict_keys(['fit_time', 'score_time', 'test_score'])"
      ]
     },
     "execution_count": 2059,
     "metadata": {},
     "output_type": "execute_result"
    }
   ],
   "source": [
    "cv_results = cross_validate(best_svm , x , y , cv=4)\n",
    "cv_results.keys()"
   ]
  },
  {
   "cell_type": "code",
   "execution_count": 2060,
   "metadata": {},
   "outputs": [
    {
     "name": "stdout",
     "output_type": "stream",
     "text": [
      "Accuracy SVM After Cross Validation =  0.8588235294117647\n"
     ]
    }
   ],
   "source": [
    "acc_svmv = sorted(cv_results['test_score'])[0]\n",
    "print('Accuracy SVM After Cross Validation = ' , acc_svmv)"
   ]
  },
  {
   "cell_type": "markdown",
   "metadata": {},
   "source": [
    "Test Decision Tree"
   ]
  },
  {
   "cell_type": "code",
   "execution_count": 2061,
   "metadata": {},
   "outputs": [
    {
     "data": {
      "text/html": [
       "<style>#sk-container-id-130 {color: black;background-color: white;}#sk-container-id-130 pre{padding: 0;}#sk-container-id-130 div.sk-toggleable {background-color: white;}#sk-container-id-130 label.sk-toggleable__label {cursor: pointer;display: block;width: 100%;margin-bottom: 0;padding: 0.3em;box-sizing: border-box;text-align: center;}#sk-container-id-130 label.sk-toggleable__label-arrow:before {content: \"▸\";float: left;margin-right: 0.25em;color: #696969;}#sk-container-id-130 label.sk-toggleable__label-arrow:hover:before {color: black;}#sk-container-id-130 div.sk-estimator:hover label.sk-toggleable__label-arrow:before {color: black;}#sk-container-id-130 div.sk-toggleable__content {max-height: 0;max-width: 0;overflow: hidden;text-align: left;background-color: #f0f8ff;}#sk-container-id-130 div.sk-toggleable__content pre {margin: 0.2em;color: black;border-radius: 0.25em;background-color: #f0f8ff;}#sk-container-id-130 input.sk-toggleable__control:checked~div.sk-toggleable__content {max-height: 200px;max-width: 100%;overflow: auto;}#sk-container-id-130 input.sk-toggleable__control:checked~label.sk-toggleable__label-arrow:before {content: \"▾\";}#sk-container-id-130 div.sk-estimator input.sk-toggleable__control:checked~label.sk-toggleable__label {background-color: #d4ebff;}#sk-container-id-130 div.sk-label input.sk-toggleable__control:checked~label.sk-toggleable__label {background-color: #d4ebff;}#sk-container-id-130 input.sk-hidden--visually {border: 0;clip: rect(1px 1px 1px 1px);clip: rect(1px, 1px, 1px, 1px);height: 1px;margin: -1px;overflow: hidden;padding: 0;position: absolute;width: 1px;}#sk-container-id-130 div.sk-estimator {font-family: monospace;background-color: #f0f8ff;border: 1px dotted black;border-radius: 0.25em;box-sizing: border-box;margin-bottom: 0.5em;}#sk-container-id-130 div.sk-estimator:hover {background-color: #d4ebff;}#sk-container-id-130 div.sk-parallel-item::after {content: \"\";width: 100%;border-bottom: 1px solid gray;flex-grow: 1;}#sk-container-id-130 div.sk-label:hover label.sk-toggleable__label {background-color: #d4ebff;}#sk-container-id-130 div.sk-serial::before {content: \"\";position: absolute;border-left: 1px solid gray;box-sizing: border-box;top: 0;bottom: 0;left: 50%;z-index: 0;}#sk-container-id-130 div.sk-serial {display: flex;flex-direction: column;align-items: center;background-color: white;padding-right: 0.2em;padding-left: 0.2em;position: relative;}#sk-container-id-130 div.sk-item {position: relative;z-index: 1;}#sk-container-id-130 div.sk-parallel {display: flex;align-items: stretch;justify-content: center;background-color: white;position: relative;}#sk-container-id-130 div.sk-item::before, #sk-container-id-130 div.sk-parallel-item::before {content: \"\";position: absolute;border-left: 1px solid gray;box-sizing: border-box;top: 0;bottom: 0;left: 50%;z-index: -1;}#sk-container-id-130 div.sk-parallel-item {display: flex;flex-direction: column;z-index: 1;position: relative;background-color: white;}#sk-container-id-130 div.sk-parallel-item:first-child::after {align-self: flex-end;width: 50%;}#sk-container-id-130 div.sk-parallel-item:last-child::after {align-self: flex-start;width: 50%;}#sk-container-id-130 div.sk-parallel-item:only-child::after {width: 0;}#sk-container-id-130 div.sk-dashed-wrapped {border: 1px dashed gray;margin: 0 0.4em 0.5em 0.4em;box-sizing: border-box;padding-bottom: 0.4em;background-color: white;}#sk-container-id-130 div.sk-label label {font-family: monospace;font-weight: bold;display: inline-block;line-height: 1.2em;}#sk-container-id-130 div.sk-label-container {text-align: center;}#sk-container-id-130 div.sk-container {/* jupyter's `normalize.less` sets `[hidden] { display: none; }` but bootstrap.min.css set `[hidden] { display: none !important; }` so we also need the `!important` here to be able to override the default hidden behavior on the sphinx rendered scikit-learn.org. See: https://github.com/scikit-learn/scikit-learn/issues/21755 */display: inline-block !important;position: relative;}#sk-container-id-130 div.sk-text-repr-fallback {display: none;}</style><div id=\"sk-container-id-130\" class=\"sk-top-container\"><div class=\"sk-text-repr-fallback\"><pre>DecisionTreeClassifier(max_depth=7, random_state=0)</pre><b>In a Jupyter environment, please rerun this cell to show the HTML representation or trust the notebook. <br />On GitHub, the HTML representation is unable to render, please try loading this page with nbviewer.org.</b></div><div class=\"sk-container\" hidden><div class=\"sk-item\"><div class=\"sk-estimator sk-toggleable\"><input class=\"sk-toggleable__control sk-hidden--visually\" id=\"sk-estimator-id-130\" type=\"checkbox\" checked><label for=\"sk-estimator-id-130\" class=\"sk-toggleable__label sk-toggleable__label-arrow\">DecisionTreeClassifier</label><div class=\"sk-toggleable__content\"><pre>DecisionTreeClassifier(max_depth=7, random_state=0)</pre></div></div></div></div></div>"
      ],
      "text/plain": [
       "DecisionTreeClassifier(max_depth=7, random_state=0)"
      ]
     },
     "execution_count": 2061,
     "metadata": {},
     "output_type": "execute_result"
    }
   ],
   "source": [
    "Best_Tree =  DecisionTreeClassifier(max_depth=7 , random_state=0)\n",
    "Best_Tree.fit(x_test , y_test)\n"
   ]
  },
  {
   "cell_type": "code",
   "execution_count": 2062,
   "metadata": {},
   "outputs": [
    {
     "data": {
      "text/plain": [
       "[Text(0.6517857142857143, 0.9375, 'x[21] <= 7.5\\ngini = 0.365\\nsamples = 1360\\nvalue = [1061, 191, 108]'),\n",
       " Text(0.44642857142857145, 0.8125, 'x[17] <= 0.5\\ngini = 0.097\\nsamples = 1118\\nvalue = [1061, 57, 0]'),\n",
       " Text(0.32142857142857145, 0.6875, 'x[8] <= 1.5\\ngini = 0.029\\nsamples = 1075\\nvalue = [1059, 16, 0]'),\n",
       " Text(0.2857142857142857, 0.5625, 'x[8] <= 0.5\\ngini = 0.026\\nsamples = 1073\\nvalue = [1059, 14, 0]'),\n",
       " Text(0.17857142857142858, 0.4375, 'x[3] <= 20.0\\ngini = 0.012\\nsamples = 1027\\nvalue = [1021, 6, 0]'),\n",
       " Text(0.14285714285714285, 0.3125, 'x[9] <= 147.5\\ngini = 0.01\\nsamples = 1026\\nvalue = [1021, 5, 0]'),\n",
       " Text(0.07142857142857142, 0.1875, 'x[1] <= 150.5\\ngini = 0.004\\nsamples = 1006\\nvalue = [1004, 2, 0]'),\n",
       " Text(0.03571428571428571, 0.0625, 'gini = 0.002\\nsamples = 983\\nvalue = [982, 1, 0]'),\n",
       " Text(0.10714285714285714, 0.0625, 'gini = 0.083\\nsamples = 23\\nvalue = [22, 1, 0]'),\n",
       " Text(0.21428571428571427, 0.1875, 'x[1] <= 148.5\\ngini = 0.255\\nsamples = 20\\nvalue = [17, 3, 0]'),\n",
       " Text(0.17857142857142858, 0.0625, 'gini = 0.105\\nsamples = 18\\nvalue = [17, 1, 0]'),\n",
       " Text(0.25, 0.0625, 'gini = 0.0\\nsamples = 2\\nvalue = [0, 2, 0]'),\n",
       " Text(0.21428571428571427, 0.3125, 'gini = 0.0\\nsamples = 1\\nvalue = [0, 1, 0]'),\n",
       " Text(0.39285714285714285, 0.4375, 'x[9] <= 129.5\\ngini = 0.287\\nsamples = 46\\nvalue = [38, 8, 0]'),\n",
       " Text(0.32142857142857145, 0.3125, 'x[11] <= 104.5\\ngini = 0.142\\nsamples = 39\\nvalue = [36, 3, 0]'),\n",
       " Text(0.2857142857142857, 0.1875, 'gini = 0.0\\nsamples = 1\\nvalue = [0, 1, 0]'),\n",
       " Text(0.35714285714285715, 0.1875, 'x[6] <= 6.5\\ngini = 0.1\\nsamples = 38\\nvalue = [36, 2, 0]'),\n",
       " Text(0.32142857142857145, 0.0625, 'gini = 0.053\\nsamples = 37\\nvalue = [36, 1, 0]'),\n",
       " Text(0.39285714285714285, 0.0625, 'gini = 0.0\\nsamples = 1\\nvalue = [0, 1, 0]'),\n",
       " Text(0.4642857142857143, 0.3125, 'x[21] <= 6.5\\ngini = 0.408\\nsamples = 7\\nvalue = [2, 5, 0]'),\n",
       " Text(0.42857142857142855, 0.1875, 'gini = 0.0\\nsamples = 2\\nvalue = [2, 0, 0]'),\n",
       " Text(0.5, 0.1875, 'gini = 0.0\\nsamples = 5\\nvalue = [0, 5, 0]'),\n",
       " Text(0.35714285714285715, 0.5625, 'gini = 0.0\\nsamples = 2\\nvalue = [0, 2, 0]'),\n",
       " Text(0.5714285714285714, 0.6875, 'x[11] <= 161.0\\ngini = 0.089\\nsamples = 43\\nvalue = [2, 41, 0]'),\n",
       " Text(0.5357142857142857, 0.5625, 'gini = 0.0\\nsamples = 36\\nvalue = [0, 36, 0]'),\n",
       " Text(0.6071428571428571, 0.5625, 'x[4] <= 47.0\\ngini = 0.408\\nsamples = 7\\nvalue = [2, 5, 0]'),\n",
       " Text(0.5714285714285714, 0.4375, 'x[13] <= 160.5\\ngini = 0.444\\nsamples = 3\\nvalue = [2, 1, 0]'),\n",
       " Text(0.5357142857142857, 0.3125, 'gini = 0.0\\nsamples = 2\\nvalue = [2, 0, 0]'),\n",
       " Text(0.6071428571428571, 0.3125, 'gini = 0.0\\nsamples = 1\\nvalue = [0, 1, 0]'),\n",
       " Text(0.6428571428571429, 0.4375, 'gini = 0.0\\nsamples = 4\\nvalue = [0, 4, 0]'),\n",
       " Text(0.8571428571428571, 0.8125, 'x[21] <= 9.5\\ngini = 0.494\\nsamples = 242\\nvalue = [0, 134, 108]'),\n",
       " Text(0.7857142857142857, 0.6875, 'x[1] <= 120.5\\ngini = 0.018\\nsamples = 108\\nvalue = [0, 1, 107]'),\n",
       " Text(0.75, 0.5625, 'x[19] <= 0.5\\ngini = 0.142\\nsamples = 13\\nvalue = [0, 1, 12]'),\n",
       " Text(0.7142857142857143, 0.4375, 'gini = 0.0\\nsamples = 12\\nvalue = [0, 0, 12]'),\n",
       " Text(0.7857142857142857, 0.4375, 'gini = 0.0\\nsamples = 1\\nvalue = [0, 1, 0]'),\n",
       " Text(0.8214285714285714, 0.5625, 'gini = 0.0\\nsamples = 95\\nvalue = [0, 0, 95]'),\n",
       " Text(0.9285714285714286, 0.6875, 'x[6] <= 68.5\\ngini = 0.015\\nsamples = 134\\nvalue = [0, 133, 1]'),\n",
       " Text(0.8928571428571429, 0.5625, 'gini = 0.0\\nsamples = 133\\nvalue = [0, 133, 0]'),\n",
       " Text(0.9642857142857143, 0.5625, 'gini = 0.0\\nsamples = 1\\nvalue = [0, 0, 1]')]"
      ]
     },
     "execution_count": 2062,
     "metadata": {},
     "output_type": "execute_result"
    },
    {
     "data": {
      "image/png": "[encoded data removed]",
      "text/plain": [
       "<Figure size 1440x720 with 1 Axes>"
      ]
     },
     "metadata": {
      "needs_background": "light"
     },
     "output_type": "display_data"
    }
   ],
   "source": [
    "# visualize Decision tree \n",
    "plt.figure(figsize=(20,10))\n",
    "plot_tree(decision_tree=tree ,  filled=True)"
   ]
  },
  {
   "cell_type": "code",
   "execution_count": 2063,
   "metadata": {},
   "outputs": [],
   "source": [
    "y_predict_TestT = tree.predict(x_test)"
   ]
  },
  {
   "cell_type": "code",
   "execution_count": 2064,
   "metadata": {},
   "outputs": [
    {
     "name": "stdout",
     "output_type": "stream",
     "text": [
      "Decision Tree accuracy :  0.9788732394366197\n"
     ]
    }
   ],
   "source": [
    "acc_Decision = accuracy_score(y_test , y_predict_TestT)\n",
    "print('Decision Tree accuracy : ' , acc_Decision )"
   ]
  },
  {
   "cell_type": "code",
   "execution_count": 2065,
   "metadata": {},
   "outputs": [
    {
     "data": {
      "text/plain": [
       "Text(0.5, 1.0, 'Confusion Matrix Decision Tree')"
      ]
     },
     "execution_count": 2065,
     "metadata": {},
     "output_type": "execute_result"
    },
    {
     "data": {
      "image/png": "[encoded data removed]",
      "text/plain": [
       "<Figure size 432x432 with 1 Axes>"
      ]
     },
     "metadata": {
      "needs_background": "light"
     },
     "output_type": "display_data"
    }
   ],
   "source": [
    "conf_matrix = confusion_matrix(y_true=y_test, y_pred= y_predict_TestT)\n",
    "fig, ax = plot_confusion_matrix(conf_mat=conf_matrix, figsize=(6, 6), cmap=plt.cm.Greens)\n",
    "plt.xlabel('Predictions', fontsize=18)\n",
    "plt.ylabel('Actuals', fontsize=18)\n",
    "plt.title('Confusion Matrix Decision Tree', fontsize=18)"
   ]
  },
  {
   "cell_type": "code",
   "execution_count": 2066,
   "metadata": {},
   "outputs": [
    {
     "name": "stdout",
     "output_type": "stream",
     "text": [
      "              precision    recall  f1-score   support\n",
      "\n",
      "           0       0.98      0.99      0.99       326\n",
      "           1       0.96      0.88      0.92        58\n",
      "           2       1.00      1.00      1.00        42\n",
      "\n",
      "    accuracy                           0.98       426\n",
      "   macro avg       0.98      0.96      0.97       426\n",
      "weighted avg       0.98      0.98      0.98       426\n",
      "\n"
     ]
    }
   ],
   "source": [
    "report = classification_report(y_test, y_predict_TestT, target_names = ['0', '1' , '2'])\n",
    "print(report)"
   ]
  },
  {
   "attachments": {},
   "cell_type": "markdown",
   "metadata": {},
   "source": [
    "Cross Validation Decision Tree"
   ]
  },
  {
   "cell_type": "code",
   "execution_count": 2067,
   "metadata": {},
   "outputs": [
    {
     "data": {
      "text/plain": [
       "dict_keys(['fit_time', 'score_time', 'test_score'])"
      ]
     },
     "execution_count": 2067,
     "metadata": {},
     "output_type": "execute_result"
    }
   ],
   "source": [
    "cv_results = cross_validate(Best_Tree , x , y , cv=4)\n",
    "cv_results.keys()"
   ]
  },
  {
   "cell_type": "code",
   "execution_count": 2068,
   "metadata": {},
   "outputs": [
    {
     "name": "stdout",
     "output_type": "stream",
     "text": [
      "Accuracy  Decision Tree After Cross Validation =  0.9788235294117648\n"
     ]
    }
   ],
   "source": [
    "acc_treev = sorted(cv_results['test_score'])[0]\n",
    "print('Accuracy  Decision Tree After Cross Validation = ' , acc_treev)"
   ]
  },
  {
   "attachments": {},
   "cell_type": "markdown",
   "metadata": {},
   "source": [
    "Bar plot"
   ]
  },
  {
   "cell_type": "code",
   "execution_count": 2069,
   "metadata": {},
   "outputs": [
    {
     "name": "stderr",
     "output_type": "stream",
     "text": [
      "c:\\Users\\Arabtech\\AppData\\Local\\Programs\\Python\\Python310\\lib\\site-packages\\seaborn\\_decorators.py:36: FutureWarning: Pass the following variables as keyword args: x, y. From version 0.12, the only valid positional argument will be `data`, and passing other arguments without an explicit keyword will result in an error or misinterpretation.\n",
      "  warnings.warn(\n"
     ]
    },
    {
     "data": {
      "image/png": "[encoded data removed]",
      "text/plain": [
       "<Figure size 504x504 with 1 Axes>"
      ]
     },
     "metadata": {
      "needs_background": "light"
     },
     "output_type": "display_data"
    }
   ],
   "source": [
    "x = ['SVM', 'KNN'  , 'Ada Boost' , 'Decision Tree','Random Forest']\n",
    "y= [acc_svmv , acc_knnv , acc_Adav , acc_treev , acc_rondomv]\n",
    "fig, ax = plt.subplots(figsize=(7 , 7))\n",
    "sns.barplot(x , y , data = df , palette = 'crest')\n",
    "plt.xlabel('Model Machine') \n",
    "plt.ylabel('Accuracy')\n",
    "plt.xticks(rotation = 45)\n",
    "ax.bar_label(ax.containers[-1], fmt='%.3f', label_type='center')\n",
    "plt.legend(title = \"Models\", labels = ['SVM', 'KNN'  , 'Ada Boost' , 'Decision Tree' ,'Random Forest'])\n",
    "plt.show()"
   ]
  },
  {
   "attachments": {},
   "cell_type": "markdown",
   "metadata": {},
   "source": [
    "Balance Data"
   ]
  },
  {
   "cell_type": "code",
   "execution_count": 2070,
   "metadata": {},
   "outputs": [
    {
     "data": {
      "text/plain": [
       "<Figure size 2160x2160 with 0 Axes>"
      ]
     },
     "execution_count": 2070,
     "metadata": {},
     "output_type": "execute_result"
    },
    {
     "data": {
      "image/png": "[encoded data removed]",
      "text/plain": [
       "<Figure size 432x288 with 1 Axes>"
      ]
     },
     "metadata": {},
     "output_type": "display_data"
    },
    {
     "data": {
      "text/plain": [
       "<Figure size 2160x2160 with 0 Axes>"
      ]
     },
     "metadata": {},
     "output_type": "display_data"
    }
   ],
   "source": [
    "Random_over = RandomOverSampler(random_state=0)\n",
    "x_res , y_res = Random_over.fit_resample(x_train , y_train)\n",
    "y_res.value_counts().plot.pie(autopct = '%.2f')\n",
    "plt.title('Fetal cases',color = 'red', fontsize = 20)\n",
    "plt.figure(figsize = (30,30))"
   ]
  },
  {
   "cell_type": "code",
   "execution_count": 2071,
   "metadata": {},
   "outputs": [
    {
     "data": {
      "text/plain": [
       "1    1061\n",
       "2    1061\n",
       "3    1061\n",
       "Name: NSP, dtype: int64"
      ]
     },
     "execution_count": 2071,
     "metadata": {},
     "output_type": "execute_result"
    }
   ],
   "source": [
    "y_res.value_counts()"
   ]
  },
  {
   "attachments": {},
   "cell_type": "markdown",
   "metadata": {},
   "source": [
    "Model Random Forest Classifier (After Balance)"
   ]
  },
  {
   "cell_type": "code",
   "execution_count": 2072,
   "metadata": {},
   "outputs": [
    {
     "data": {
      "text/html": [
       "<style>#sk-container-id-131 {color: black;background-color: white;}#sk-container-id-131 pre{padding: 0;}#sk-container-id-131 div.sk-toggleable {background-color: white;}#sk-container-id-131 label.sk-toggleable__label {cursor: pointer;display: block;width: 100%;margin-bottom: 0;padding: 0.3em;box-sizing: border-box;text-align: center;}#sk-container-id-131 label.sk-toggleable__label-arrow:before {content: \"▸\";float: left;margin-right: 0.25em;color: #696969;}#sk-container-id-131 label.sk-toggleable__label-arrow:hover:before {color: black;}#sk-container-id-131 div.sk-estimator:hover label.sk-toggleable__label-arrow:before {color: black;}#sk-container-id-131 div.sk-toggleable__content {max-height: 0;max-width: 0;overflow: hidden;text-align: left;background-color: #f0f8ff;}#sk-container-id-131 div.sk-toggleable__content pre {margin: 0.2em;color: black;border-radius: 0.25em;background-color: #f0f8ff;}#sk-container-id-131 input.sk-toggleable__control:checked~div.sk-toggleable__content {max-height: 200px;max-width: 100%;overflow: auto;}#sk-container-id-131 input.sk-toggleable__control:checked~label.sk-toggleable__label-arrow:before {content: \"▾\";}#sk-container-id-131 div.sk-estimator input.sk-toggleable__control:checked~label.sk-toggleable__label {background-color: #d4ebff;}#sk-container-id-131 div.sk-label input.sk-toggleable__control:checked~label.sk-toggleable__label {background-color: #d4ebff;}#sk-container-id-131 input.sk-hidden--visually {border: 0;clip: rect(1px 1px 1px 1px);clip: rect(1px, 1px, 1px, 1px);height: 1px;margin: -1px;overflow: hidden;padding: 0;position: absolute;width: 1px;}#sk-container-id-131 div.sk-estimator {font-family: monospace;background-color: #f0f8ff;border: 1px dotted black;border-radius: 0.25em;box-sizing: border-box;margin-bottom: 0.5em;}#sk-container-id-131 div.sk-estimator:hover {background-color: #d4ebff;}#sk-container-id-131 div.sk-parallel-item::after {content: \"\";width: 100%;border-bottom: 1px solid gray;flex-grow: 1;}#sk-container-id-131 div.sk-label:hover label.sk-toggleable__label {background-color: #d4ebff;}#sk-container-id-131 div.sk-serial::before {content: \"\";position: absolute;border-left: 1px solid gray;box-sizing: border-box;top: 0;bottom: 0;left: 50%;z-index: 0;}#sk-container-id-131 div.sk-serial {display: flex;flex-direction: column;align-items: center;background-color: white;padding-right: 0.2em;padding-left: 0.2em;position: relative;}#sk-container-id-131 div.sk-item {position: relative;z-index: 1;}#sk-container-id-131 div.sk-parallel {display: flex;align-items: stretch;justify-content: center;background-color: white;position: relative;}#sk-container-id-131 div.sk-item::before, #sk-container-id-131 div.sk-parallel-item::before {content: \"\";position: absolute;border-left: 1px solid gray;box-sizing: border-box;top: 0;bottom: 0;left: 50%;z-index: -1;}#sk-container-id-131 div.sk-parallel-item {display: flex;flex-direction: column;z-index: 1;position: relative;background-color: white;}#sk-container-id-131 div.sk-parallel-item:first-child::after {align-self: flex-end;width: 50%;}#sk-container-id-131 div.sk-parallel-item:last-child::after {align-self: flex-start;width: 50%;}#sk-container-id-131 div.sk-parallel-item:only-child::after {width: 0;}#sk-container-id-131 div.sk-dashed-wrapped {border: 1px dashed gray;margin: 0 0.4em 0.5em 0.4em;box-sizing: border-box;padding-bottom: 0.4em;background-color: white;}#sk-container-id-131 div.sk-label label {font-family: monospace;font-weight: bold;display: inline-block;line-height: 1.2em;}#sk-container-id-131 div.sk-label-container {text-align: center;}#sk-container-id-131 div.sk-container {/* jupyter's `normalize.less` sets `[hidden] { display: none; }` but bootstrap.min.css set `[hidden] { display: none !important; }` so we also need the `!important` here to be able to override the default hidden behavior on the sphinx rendered scikit-learn.org. See: https://github.com/scikit-learn/scikit-learn/issues/21755 */display: inline-block !important;position: relative;}#sk-container-id-131 div.sk-text-repr-fallback {display: none;}</style><div id=\"sk-container-id-131\" class=\"sk-top-container\"><div class=\"sk-text-repr-fallback\"><pre>RandomForestClassifier(max_depth=8, random_state=0)</pre><b>In a Jupyter environment, please rerun this cell to show the HTML representation or trust the notebook. <br />On GitHub, the HTML representation is unable to render, please try loading this page with nbviewer.org.</b></div><div class=\"sk-container\" hidden><div class=\"sk-item\"><div class=\"sk-estimator sk-toggleable\"><input class=\"sk-toggleable__control sk-hidden--visually\" id=\"sk-estimator-id-131\" type=\"checkbox\" checked><label for=\"sk-estimator-id-131\" class=\"sk-toggleable__label sk-toggleable__label-arrow\">RandomForestClassifier</label><div class=\"sk-toggleable__content\"><pre>RandomForestClassifier(max_depth=8, random_state=0)</pre></div></div></div></div></div>"
      ],
      "text/plain": [
       "RandomForestClassifier(max_depth=8, random_state=0)"
      ]
     },
     "execution_count": 2072,
     "metadata": {},
     "output_type": "execute_result"
    }
   ],
   "source": [
    "random_best = RandomForestClassifier(max_depth=8, random_state=0)\n",
    "random_best.fit(x_res , y_res)"
   ]
  },
  {
   "cell_type": "code",
   "execution_count": 2073,
   "metadata": {},
   "outputs": [],
   "source": [
    "y_predict_best = random_best.predict(x_test)\n",
    "final_random = accuracy_score(y_test,y_predict_best)"
   ]
  },
  {
   "attachments": {},
   "cell_type": "markdown",
   "metadata": {},
   "source": [
    "Model Decision Tree Classifier (After Balance)"
   ]
  },
  {
   "cell_type": "code",
   "execution_count": 2074,
   "metadata": {},
   "outputs": [
    {
     "data": {
      "text/html": [
       "<style>#sk-container-id-132 {color: black;background-color: white;}#sk-container-id-132 pre{padding: 0;}#sk-container-id-132 div.sk-toggleable {background-color: white;}#sk-container-id-132 label.sk-toggleable__label {cursor: pointer;display: block;width: 100%;margin-bottom: 0;padding: 0.3em;box-sizing: border-box;text-align: center;}#sk-container-id-132 label.sk-toggleable__label-arrow:before {content: \"▸\";float: left;margin-right: 0.25em;color: #696969;}#sk-container-id-132 label.sk-toggleable__label-arrow:hover:before {color: black;}#sk-container-id-132 div.sk-estimator:hover label.sk-toggleable__label-arrow:before {color: black;}#sk-container-id-132 div.sk-toggleable__content {max-height: 0;max-width: 0;overflow: hidden;text-align: left;background-color: #f0f8ff;}#sk-container-id-132 div.sk-toggleable__content pre {margin: 0.2em;color: black;border-radius: 0.25em;background-color: #f0f8ff;}#sk-container-id-132 input.sk-toggleable__control:checked~div.sk-toggleable__content {max-height: 200px;max-width: 100%;overflow: auto;}#sk-container-id-132 input.sk-toggleable__control:checked~label.sk-toggleable__label-arrow:before {content: \"▾\";}#sk-container-id-132 div.sk-estimator input.sk-toggleable__control:checked~label.sk-toggleable__label {background-color: #d4ebff;}#sk-container-id-132 div.sk-label input.sk-toggleable__control:checked~label.sk-toggleable__label {background-color: #d4ebff;}#sk-container-id-132 input.sk-hidden--visually {border: 0;clip: rect(1px 1px 1px 1px);clip: rect(1px, 1px, 1px, 1px);height: 1px;margin: -1px;overflow: hidden;padding: 0;position: absolute;width: 1px;}#sk-container-id-132 div.sk-estimator {font-family: monospace;background-color: #f0f8ff;border: 1px dotted black;border-radius: 0.25em;box-sizing: border-box;margin-bottom: 0.5em;}#sk-container-id-132 div.sk-estimator:hover {background-color: #d4ebff;}#sk-container-id-132 div.sk-parallel-item::after {content: \"\";width: 100%;border-bottom: 1px solid gray;flex-grow: 1;}#sk-container-id-132 div.sk-label:hover label.sk-toggleable__label {background-color: #d4ebff;}#sk-container-id-132 div.sk-serial::before {content: \"\";position: absolute;border-left: 1px solid gray;box-sizing: border-box;top: 0;bottom: 0;left: 50%;z-index: 0;}#sk-container-id-132 div.sk-serial {display: flex;flex-direction: column;align-items: center;background-color: white;padding-right: 0.2em;padding-left: 0.2em;position: relative;}#sk-container-id-132 div.sk-item {position: relative;z-index: 1;}#sk-container-id-132 div.sk-parallel {display: flex;align-items: stretch;justify-content: center;background-color: white;position: relative;}#sk-container-id-132 div.sk-item::before, #sk-container-id-132 div.sk-parallel-item::before {content: \"\";position: absolute;border-left: 1px solid gray;box-sizing: border-box;top: 0;bottom: 0;left: 50%;z-index: -1;}#sk-container-id-132 div.sk-parallel-item {display: flex;flex-direction: column;z-index: 1;position: relative;background-color: white;}#sk-container-id-132 div.sk-parallel-item:first-child::after {align-self: flex-end;width: 50%;}#sk-container-id-132 div.sk-parallel-item:last-child::after {align-self: flex-start;width: 50%;}#sk-container-id-132 div.sk-parallel-item:only-child::after {width: 0;}#sk-container-id-132 div.sk-dashed-wrapped {border: 1px dashed gray;margin: 0 0.4em 0.5em 0.4em;box-sizing: border-box;padding-bottom: 0.4em;background-color: white;}#sk-container-id-132 div.sk-label label {font-family: monospace;font-weight: bold;display: inline-block;line-height: 1.2em;}#sk-container-id-132 div.sk-label-container {text-align: center;}#sk-container-id-132 div.sk-container {/* jupyter's `normalize.less` sets `[hidden] { display: none; }` but bootstrap.min.css set `[hidden] { display: none !important; }` so we also need the `!important` here to be able to override the default hidden behavior on the sphinx rendered scikit-learn.org. See: https://github.com/scikit-learn/scikit-learn/issues/21755 */display: inline-block !important;position: relative;}#sk-container-id-132 div.sk-text-repr-fallback {display: none;}</style><div id=\"sk-container-id-132\" class=\"sk-top-container\"><div class=\"sk-text-repr-fallback\"><pre>DecisionTreeClassifier(max_depth=8, random_state=0)</pre><b>In a Jupyter environment, please rerun this cell to show the HTML representation or trust the notebook. <br />On GitHub, the HTML representation is unable to render, please try loading this page with nbviewer.org.</b></div><div class=\"sk-container\" hidden><div class=\"sk-item\"><div class=\"sk-estimator sk-toggleable\"><input class=\"sk-toggleable__control sk-hidden--visually\" id=\"sk-estimator-id-132\" type=\"checkbox\" checked><label for=\"sk-estimator-id-132\" class=\"sk-toggleable__label sk-toggleable__label-arrow\">DecisionTreeClassifier</label><div class=\"sk-toggleable__content\"><pre>DecisionTreeClassifier(max_depth=8, random_state=0)</pre></div></div></div></div></div>"
      ],
      "text/plain": [
       "DecisionTreeClassifier(max_depth=8, random_state=0)"
      ]
     },
     "execution_count": 2074,
     "metadata": {},
     "output_type": "execute_result"
    }
   ],
   "source": [
    "Decision_best = DecisionTreeClassifier(max_depth=8, random_state=0)\n",
    "Decision_best.fit(x_res , y_res)"
   ]
  },
  {
   "cell_type": "code",
   "execution_count": 2075,
   "metadata": {},
   "outputs": [],
   "source": [
    "y_predict_best = Decision_best.predict(x_test)\n",
    "final_tree = accuracy_score(y_test,y_predict_best)"
   ]
  },
  {
   "cell_type": "code",
   "execution_count": 2076,
   "metadata": {},
   "outputs": [
    {
     "name": "stderr",
     "output_type": "stream",
     "text": [
      "c:\\Users\\Arabtech\\AppData\\Local\\Programs\\Python\\Python310\\lib\\site-packages\\seaborn\\_decorators.py:36: FutureWarning: Pass the following variables as keyword args: x, y. From version 0.12, the only valid positional argument will be `data`, and passing other arguments without an explicit keyword will result in an error or misinterpretation.\n",
      "  warnings.warn(\n"
     ]
    },
    {
     "data": {
      "image/png": "[encoded data removed]",
      "text/plain": [
       "<Figure size 288x504 with 1 Axes>"
      ]
     },
     "metadata": {
      "needs_background": "light"
     },
     "output_type": "display_data"
    }
   ],
   "source": [
    "x = ['Decision Tree','Random Forest']\n",
    "y= [final_tree , final_random ] \n",
    "fig, ax = plt.subplots(figsize=(4 , 7))\n",
    "sns.barplot(x , y , data = df , palette = 'Set2')\n",
    "plt.xlabel('Model Machine') \n",
    "plt.ylabel('Accuracy')\n",
    "plt.xticks(rotation = 45)\n",
    "plt.title('Models Machine Learning After Balance')\n",
    "ax.bar_label(ax.containers[-1], fmt='%.3f', label_type='center')\n",
    "plt.legend(title = \"Models\", labels = ['Decision Tree' ,'Random Forest'])\n",
    "plt.show()"
   ]
  },
  {
   "cell_type": "code",
   "execution_count": 2077,
   "metadata": {},
   "outputs": [
    {
     "data": {
      "image/png": "[encoded data removed]",
      "text/plain": [
       "<Figure size 432x432 with 1 Axes>"
      ]
     },
     "metadata": {
      "needs_background": "light"
     },
     "output_type": "display_data"
    }
   ],
   "source": [
    "# confusion matrix\n",
    "conf_matrix = confusion_matrix(y_true=y_test, y_pred= y_predict_best)\n",
    "fig, ax = plot_confusion_matrix(conf_mat=conf_matrix, figsize=(6, 6), cmap=plt.cm.Reds)\n",
    "plt.xlabel('Predictions', fontsize=18)\n",
    "plt.ylabel('Actuals', fontsize=18)\n",
    "plt.title('Confusion Random Forest After Balance', fontsize=15)\n",
    "plt.show()"
   ]
  },
  {
   "cell_type": "code",
   "execution_count": 2078,
   "metadata": {},
   "outputs": [
    {
     "name": "stdout",
     "output_type": "stream",
     "text": [
      "              precision    recall  f1-score   support\n",
      "\n",
      "           0       0.98      0.99      0.99       326\n",
      "           1       0.96      0.88      0.92        58\n",
      "           2       1.00      1.00      1.00        42\n",
      "\n",
      "    accuracy                           0.98       426\n",
      "   macro avg       0.98      0.96      0.97       426\n",
      "weighted avg       0.98      0.98      0.98       426\n",
      "\n"
     ]
    }
   ],
   "source": [
    "report = classification_report(y_test, y_predict_best, target_names = ['0', '1' , '2'])\n",
    "print(report)"
   ]
  },
  {
   "attachments": {},
   "cell_type": "markdown",
   "metadata": {},
   "source": [
    "Deployment"
   ]
  },
  {
   "cell_type": "code",
   "execution_count": 2079,
   "metadata": {},
   "outputs": [
    {
     "data": {
      "text/plain": [
       "['CTG.joblib']"
      ]
     },
     "execution_count": 2079,
     "metadata": {},
     "output_type": "execute_result"
    }
   ],
   "source": [
    "import joblib \n",
    "file_name = ('CTG.joblib')\n",
    "joblib.dump(random,file_name)"
   ]
  },
  {
   "cell_type": "code",
   "execution_count": 2080,
   "metadata": {},
   "outputs": [],
   "source": [
    "# lists = []\n",
    "# list2 =['LBE', 'LB', 'AC', 'UC', 'ASTV', 'MSTV', 'ALTV', 'MLTV', 'DL', 'DP',\n",
    "#        'Width', 'Min', 'Mode', 'Mean', 'Median', 'Variance', 'calm sleep',\n",
    "#        'REM sleep', 'calm vigilance', 'SH', 'AD', 'LD', 'FS', 'SUSP', 'CLASS']\n",
    "# # for loop\n",
    "# for i in list2 :\n",
    "#         lists.append(float(input('Enter ' + i + ':')))\n",
    "# # load model\n",
    "# load_model = joblib.load(file_name)\n",
    "# predict = load_model.predict([lists])\n",
    "# if predict == 1 : \n",
    "#    print('Normal')\n",
    "\n",
    "# elif predict == 2 : \n",
    "#     print('Suspect')\n",
    "\n",
    "# else :\n",
    "#     print('Pathologic')\n",
    "# predict\n"
   ]
  }
 ],
 "metadata": {
  "kernelspec": {
   "display_name": "Python 3.10.0 64-bit",
   "language": "python",
   "name": "python3"
  },
  "language_info": {
   "codemirror_mode": {
    "name": "ipython",
    "version": 3
   },
   "file_extension": ".py",
   "mimetype": "text/x-python",
   "name": "python",
   "nbconvert_exporter": "python",
   "pygments_lexer": "ipython3",
   "version": "3.10.0"
  },
  "orig_nbformat": 4,
  "vscode": {
   "interpreter": {
    "hash": "5abfe2660f40ee2345e5d530c13db2d4abd143c136a769886a13ef421b41cdb6"
   }
  }
 },
 "nbformat": 4,
 "nbformat_minor": 2
}
